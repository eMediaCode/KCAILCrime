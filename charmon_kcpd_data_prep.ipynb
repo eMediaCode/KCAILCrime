{
 "cells": [
  {
   "cell_type": "code",
   "execution_count": 1,
   "metadata": {},
   "outputs": [],
   "source": [
    "##################################################################\n",
    "# Download miscellaneous economic time series data sets from FRED\n",
    "# (I'm cheating right now and getting CSV data using the URL from\n",
    "# the \"download\" button on the graph. A more robust solution would\n",
    "# be to consume the FRED REST API & parse the JSON response.)\n",
    "##################################################################\n",
    "\n",
    "import pandas as pd\n",
    "import numpy as np\n",
    "import requests\n",
    "\n",
    "def download_file(url, out) :\n",
    "    \"\"\"Downloads a file from url and writes it to path out\"\"\"\n",
    "    r = requests.get(url)\n",
    "    with open(out, 'wb') as f:\n",
    "        f.write(r.content)\n"
   ]
  },
  {
   "cell_type": "code",
   "execution_count": null,
   "metadata": {},
   "outputs": [],
   "source": [
    "def SKIP_download_files() :\n",
    "    \"\"\"not a real function, just making it one to easily skip running this chunk of code\"\"\"\n",
    "    ##########################\n",
    "    # Download KCPD crime data\n",
    "    ##########################\n",
    "\n",
    "    #KCPD Crime 2009\n",
    "    url = 'https://data.kcmo.org/api/views/6efz-664k/rows.csv?accessType=DOWNLOAD'\n",
    "    download_file(url, './data/KCPD-Crime-Data-2009.csv')\n",
    "\n",
    "    #KCPD Crime 2010\n",
    "    url = 'https://data.kcmo.org/api/views/tk79-kf9y/rows.csv?accessType=DOWNLOAD'\n",
    "    download_file(url, './data/KCPD-Crime-Data-2010.csv')\n",
    "\n",
    "    #KCPD Crime 2011\n",
    "    url = 'https://data.kcmo.org/api/views/nt2f-uxvx/rows.csv?accessType=DOWNLOAD'\n",
    "    download_file(url, './data/KCPD-Crime-Data-2011.csv')\n",
    "\n",
    "    #KCPD Crime 2012\n",
    "    url = 'https://data.kcmo.org/api/views/csec-aghy/rows.csv?accessType=DOWNLOAD'\n",
    "    download_file(url, './data/KCPD-Crime-Data-2012.csv')\n",
    "\n",
    "    #KCPD Crime 2013\n",
    "    url = 'https://data.kcmo.org/api/views/m3xd-e7tp/rows.csv?accessType=DOWNLOAD'\n",
    "    download_file(url, './data/KCPD-Crime-Data-2013.csv')\n",
    "\n",
    "    #KCPD Crime 2014\n",
    "    url = 'https://data.kcmo.org/api/views/yu5f-iqbp/rows.csv?accessType=DOWNLOAD'\n",
    "    download_file(url, './data/KCPD-Crime-Data-2014.csv')\n",
    "\n",
    "    #KCPD Crime 2015\n",
    "    url = 'https://data.kcmo.org/api/views/kbzx-7ehe/rows.csv?accessType=DOWNLOAD'\n",
    "    download_file(url, './data/KCPD-Crime-Data-2015.csv')\n",
    "\n",
    "    #KCPD Crime 2016\n",
    "    url = 'https://data.kcmo.org/api/views/wbz8-pdv7/rows.csv?accessType=DOWNLOAD'\n",
    "    download_file(url, './data/KCPD-Crime-Data-2016.csv')\n",
    "\n",
    "    #KCPD Crime 2017\n",
    "    url = 'https://data.kcmo.org/api/views/98is-shjt/rows.csv?accessType=DOWNLOAD'\n",
    "    download_file(url, './data/KCPD-Crime-Data-2017.csv')\n",
    "\n",
    "    #KCPD Crime 2018\n",
    "    url = 'https://data.kcmo.org/api/views/dmjw-d28i/rows.csv?accessType=DOWNLOAD'\n",
    "    download_file(url, './data/KCPD-Crime-Data-2018.csv')\n",
    "\n",
    "    ###########################\n",
    "    # Download FRED datasets\n",
    "    ###########################\n",
    "\n",
    "    #KANS129UR - KC monthly unemployment rates\n",
    "    url = 'https://fred.stlouisfed.org/graph/fredgraph.csv?cosd=1990-01-01&coed=2018-04-01&mode=fred&id=KANS129UR&nd=1990-01-01&fgsnd=2009-06-01&fq=Monthly&fam=avg'\n",
    "    download_file(url, './data/KANS129UR.csv')\n",
    "\n",
    "    #ATNHPIUS28140Q - All-Transactions House Price Index for Kansas City, MO-KS (MSA)\n",
    "    url = 'https://fred.stlouisfed.org/graph/fredgraph.csv?cosd=1976-01-01&coed=2018-01-01&mode=fred&id=ATNHPIUS28140Q&nd=1976-01-01&fgsnd=2009-06-01&fq=Quarterly&fam=avg'\n",
    "    download_file(url, './data/ATNHPIUS28140Q.csv')\n",
    "\n",
    "    #KANS129PCPI - Per Capita Personal Income in Kansas City, MO-KS (MSA)\n",
    "    url = 'https://fred.stlouisfed.org/graph/fredgraph.csv?&cosd=1969-01-01&coed=2016-01-01&mode=fred&id=KANS129PCPI&nd=1969-01-01&fgsnd=2009-06-01&fq=Annual&fam=avg'\n",
    "    download_file(url, './data/KANS129PCPI.csv')\n",
    "\n",
    "    #KANS129BPPRIV - New Private Housing Units Authorized by Building Permits for Kansas City, MO-KS (MSA)\n",
    "    url = 'https://fred.stlouisfed.org/graph/fredgraph.csv?&cosd=1988-01-01&coed=2018-04-01&mode=fred&id=KANS129BPPRIV&fq=Monthly&fam=avg'\n",
    "    download_file(url, './data/KANS129BPPRIV.csv')\n",
    "    \n",
    "SKIP_download_files()\n"
   ]
  },
  {
   "cell_type": "code",
   "execution_count": null,
   "metadata": {},
   "outputs": [],
   "source": [
    "# read kcpd files to pandas dataframes\n",
    "file = './data/KCPD-Crime-Data-2009.csv'\n",
    "kcpd2009_raw = pd.read_csv(file, encoding='utf-8')\n",
    "\n",
    "file = './data/KCPD-Crime-Data-2010.csv'\n",
    "kcpd2010_raw = pd.read_csv(file, encoding='utf-8')\n",
    "\n",
    "file = './data/KCPD-Crime-Data-2011.csv'\n",
    "kcpd2011_raw = pd.read_csv(file, encoding='utf-8')\n",
    "\n",
    "file = './data/KCPD-Crime-Data-2012.csv'\n",
    "kcpd2012_raw = pd.read_csv(file, encoding='utf-8')\n",
    "\n",
    "file = './data/KCPD-Crime-Data-2013.csv'\n",
    "kcpd2013_raw = pd.read_csv(file, encoding='utf-8')\n",
    "\n",
    "file = './data/KCPD-Crime-Data-2014.csv'\n",
    "kcpd2014_raw = pd.read_csv(file, encoding='utf-8')\n",
    "\n",
    "file = './data/KCPD-Crime-Data-2015.csv'\n",
    "kcpd2015_raw = pd.read_csv(file, encoding='utf-8')\n",
    "\n",
    "file = './data/KCPD-Crime-Data-2016.csv'\n",
    "kcpd2016_raw = pd.read_csv(file, encoding='utf-8')\n",
    "\n",
    "file = './data/KCPD-Crime-Data-2017.csv'\n",
    "kcpd2017_raw = pd.read_csv(file, encoding='utf-8')\n",
    "\n",
    "file = './data/KCPD-Crime-Data-2018.csv'\n",
    "kcpd2018_raw = pd.read_csv(file, encoding='utf-8')"
   ]
  },
  {
   "cell_type": "code",
   "execution_count": null,
   "metadata": {},
   "outputs": [],
   "source": [
    "kcpd2009_raw.columns"
   ]
  },
  {
   "cell_type": "code",
   "execution_count": null,
   "metadata": {},
   "outputs": [],
   "source": [
    "kcpd2010_raw.columns # surprise! inconsistent columns/positions between years!"
   ]
  },
  {
   "cell_type": "code",
   "execution_count": null,
   "metadata": {},
   "outputs": [],
   "source": [
    "def clean_column_names(df) :\n",
    "    \"\"\"Cleans up dataframe column names to lowercase, strip leading/trailing space,\n",
    "       and replace spaces with underscores.\"\"\"\n",
    "    cols = list(df.columns)\n",
    "    cols = (col.lower() for col in cols)\n",
    "    cols = (col.strip() for col in cols)\n",
    "    cols = (col.replace(' ','_') for col in cols)\n",
    "    \n",
    "    #one column is named 'Location_1' in some files, and 'Location' in others\n",
    "    cols = (col.replace('location_1','location') for col in cols)\n",
    "    \n",
    "    df.columns = list(cols)\n",
    "    \n",
    "    return df"
   ]
  },
  {
   "cell_type": "code",
   "execution_count": null,
   "metadata": {},
   "outputs": [],
   "source": [
    "# clean up the column names in all the raw dataframes\n",
    "kcpd2009_raw = clean_column_names(kcpd2009_raw)\n",
    "kcpd2010_raw = clean_column_names(kcpd2010_raw)\n",
    "kcpd2011_raw = clean_column_names(kcpd2011_raw)\n",
    "kcpd2012_raw = clean_column_names(kcpd2012_raw)\n",
    "kcpd2013_raw = clean_column_names(kcpd2013_raw)\n",
    "kcpd2014_raw = clean_column_names(kcpd2014_raw)\n",
    "kcpd2015_raw = clean_column_names(kcpd2015_raw)\n",
    "kcpd2016_raw = clean_column_names(kcpd2016_raw)\n",
    "kcpd2017_raw = clean_column_names(kcpd2017_raw)\n",
    "kcpd2018_raw = clean_column_names(kcpd2018_raw)"
   ]
  },
  {
   "cell_type": "code",
   "execution_count": null,
   "metadata": {},
   "outputs": [],
   "source": [
    "kcpd2013_raw.head(5)"
   ]
  },
  {
   "cell_type": "code",
   "execution_count": null,
   "metadata": {},
   "outputs": [],
   "source": [
    "def kcpd_clean(df) :\n",
    "    \"\"\"Cleans a pandas dataframe of KCPD crime data for a given year &\n",
    "       prunes down to attributes that will be used for analysis.\n",
    "    \"\"\"\n",
    "\n",
    "    # Keep 'involvement' = 'VIC' (victim) rows; we'll count crimes by type & victim\n",
    "    # Also drop rows that appear to be duplicates (i.e. two #1 victims on report for same IBRS code).\n",
    "    df = df[df['involvement']=='VIC'].drop_duplicates(subset=['report_no','ibrs','invl_no'], keep='first')\n",
    "    \n",
    "    # convert string dates to datetimes (ignore time of day; not significant for analyzing monthly crime stats)\n",
    "    df['reported_date'] = pd.to_datetime(df['reported_date'])\n",
    "    df['from_date'] = pd.to_datetime(df['from_date'])\n",
    "    df['to_date'] = pd.to_datetime(df['to_date'].str[:10])\n",
    "        \n",
    "    # Drop rows with missing dates, missing zipcodes, or from & to dates in different months\n",
    "    # (spanning months is no good for monthly aggregation; these are a low percentage of data)\n",
    "    # TODO: use lat/long if available to look up missing zip (low priority, this is small % of null values)\n",
    "    mask = (\n",
    "         df['zip_code'].notnull() &\n",
    "         df['from_date'].notnull() & (\n",
    "         df['to_date'].isnull() |\n",
    "         (df['from_date'].dt.month == df['to_date'].dt.month))\n",
    "    )\n",
    "    df = df[mask]\n",
    "    \n",
    "    # get rid of decimal on zip codes\n",
    "    df['zip_code'] = df['zip_code'].astype(str).str.replace('.','').str[:5]\n",
    "    \n",
    "    # get rid of non 5 digit zip codes\n",
    "    df = df[df['zip_code'].str.len() == 5]\n",
    "    \n",
    "    # get rid of zip codes obviously not in KCMO\n",
    "    df = df[df['zip_code'].str[:2].astype(int) == 64]\n",
    "    \n",
    "    # clean up the remaining variables\n",
    "    df['firearm_used'] = df['firearm_used_flag'].apply(lambda x: 1 if x == 'Y' else 0)\n",
    "    df['dvflag'] = df['dvflag'].apply(lambda x: 1 if x == 'Y' else 0) #ignoring \"U\" (unknown)\n",
    "    \n",
    "    # derive more useful features based on offense/ibrs codes (per https://ucr.fbi.gov/nibrs/nibrs-user-manual)\n",
    "    ibrs_society = ['720','35A','35B','39A','39B','39C','39D','370','40A','40B','40C','520']\n",
    "    ibrs_property = ['200','510','220','250','290','270','210','26A','26B','26C','26D','26E',\n",
    "                     '26F','26G','23A','23B','23C','23D','23E','23F','23G','23H','240','120',\n",
    "                     '280']\n",
    "    ibrs_person = ['13A','13B','13C','09A','09B','64A','64B','100','11A','11B','11C','11D','36A','36B']\n",
    "    ibrs_other = ['90A','90B','90C','90D','90E','90F','90G','90H','90J','90Z'] # all Class B offenses\n",
    "\n",
    "    df['off_society'] = df['ibrs'].isin(ibrs_society).map(lambda x: 1 if x else 0)\n",
    "    df['off_property'] = df['ibrs'].isin(ibrs_property).map(lambda x: 1 if x else 0)\n",
    "    df['off_person'] = df['ibrs'].isin(ibrs_person).map(lambda x: 1 if x else 0)\n",
    "    df['off_other'] = df['ibrs'].isin(ibrs_other).map(lambda x: 1 if x else 0)\n",
    "    \n",
    "    #return new dataframe with only columns we need for subsequent analysis    \n",
    "    return df[['report_no','from_date','zip_code','dvflag','firearm_used',\n",
    "              'off_society','off_property','off_person','off_other']]\n"
   ]
  },
  {
   "cell_type": "code",
   "execution_count": null,
   "metadata": {},
   "outputs": [],
   "source": [
    "# process remaining KCPD files through kcpd_transform\n",
    "kcpd2009 = kcpd_clean(kcpd2009_raw)\n",
    "kcpd2010 = kcpd_clean(kcpd2010_raw)\n",
    "kcpd2011 = kcpd_clean(kcpd2011_raw)\n",
    "kcpd2012 = kcpd_clean(kcpd2012_raw)\n",
    "kcpd2013 = kcpd_clean(kcpd2013_raw)\n",
    "kcpd2014 = kcpd_clean(kcpd2014_raw)\n",
    "kcpd2015 = kcpd_clean(kcpd2015_raw)\n",
    "kcpd2016 = kcpd_clean(kcpd2016_raw)\n",
    "kcpd2017 = kcpd_clean(kcpd2017_raw)\n",
    "kcpd2018 = kcpd_clean(kcpd2018_raw)"
   ]
  },
  {
   "cell_type": "code",
   "execution_count": null,
   "metadata": {},
   "outputs": [],
   "source": [
    "# concatenate (union all) the cleaned kcpd dataframes\n",
    "kcpd_clean_full = pd.concat(\n",
    "    [kcpd2009, kcpd2010, kcpd2011, kcpd2012, kcpd2013, kcpd2014,\n",
    "     kcpd2015, kcpd2016, kcpd2017, kcpd2018]\n",
    "    , ignore_index=True\n",
    ")"
   ]
  },
  {
   "cell_type": "code",
   "execution_count": null,
   "metadata": {},
   "outputs": [],
   "source": [
    "import datetime\n",
    "\n",
    "def kcpd_agg_monthly_by_zip(df) :\n",
    "    \"\"\"Rolls up KCPD crime data by month and zip code.\"\"\"\n",
    "    \n",
    "    df = df[df['from_date'] >= datetime.date(2009,1,1)]\n",
    "    df['from_date'] = df['from_date'].values.astype('datetime64[M]')\n",
    "\n",
    "    grouped = df.groupby(['from_date','zip_code']).agg({\n",
    "                                                        \"report_no\": \"count\", \"off_society\": \"sum\",\n",
    "                                                        \"off_person\": \"sum\", \"off_property\": \"sum\",\n",
    "                                                        \"off_other\": \"sum\", \"dvflag\": \"sum\",\n",
    "                                                        \"firearm_used\": \"sum\"\n",
    "                                                    })\n",
    "    grouped.columns = ['offense_total','off_society','off_person','off_property','off_other','dv','firearm']\n",
    "    \n",
    "    return grouped"
   ]
  },
  {
   "cell_type": "code",
   "execution_count": null,
   "metadata": {},
   "outputs": [],
   "source": [
    "kcpd_agged = kcpd_agg_monthly_by_zip(kcpd_clean_full)\n",
    "\n",
    "kcpd_agged.head(20)"
   ]
  },
  {
   "cell_type": "code",
   "execution_count": null,
   "metadata": {},
   "outputs": [],
   "source": [
    "## join other datasets to kcpd_agged\n",
    "\n",
    "# 2010 census & 2011-2017 intercensal estimates for Missouri cities & incorporated places\n",
    "url = 'https://www2.census.gov/programs-surveys/popest/datasets/2010-2017/cities/totals/sub-est2017_29.csv'\n",
    "download_file(url, './data/sub-est2017_29.csv')\n",
    "\n",
    "url = 'https://www.aggdata.com/download_sample.php?file=us_postal_codes.csv'\n",
    "download_file(url, './data/us_postal_codes.csv')"
   ]
  },
  {
   "cell_type": "code",
   "execution_count": null,
   "metadata": {},
   "outputs": [],
   "source": [
    "file = './data/sub-est2017_29.csv'\n",
    "pop_est = pd.read_csv(file)"
   ]
  },
  {
   "cell_type": "code",
   "execution_count": null,
   "metadata": {
    "scrolled": true
   },
   "outputs": [],
   "source": [
    "pop_est.head()"
   ]
  },
  {
   "cell_type": "code",
   "execution_count": null,
   "metadata": {},
   "outputs": [],
   "source": [
    "file = './data/us_postal_codes.csv'\n",
    "zipcodes = pd.read_csv(file)"
   ]
  },
  {
   "cell_type": "code",
   "execution_count": null,
   "metadata": {},
   "outputs": [],
   "source": [
    "zipcodes.head()"
   ]
  },
  {
   "cell_type": "code",
   "execution_count": null,
   "metadata": {},
   "outputs": [],
   "source": [
    "# clean city names in pop_est to match zipcodes\n",
    "import re\n",
    "\n"
   ]
  }
 ],
 "metadata": {
  "kernelspec": {
   "display_name": "Python [conda env:KCAIL]",
   "language": "python",
   "name": "conda-env-KCAIL-py"
  },
  "language_info": {
   "codemirror_mode": {
    "name": "ipython",
    "version": 3
   },
   "file_extension": ".py",
   "mimetype": "text/x-python",
   "name": "python",
   "nbconvert_exporter": "python",
   "pygments_lexer": "ipython3",
   "version": "3.5.5"
  }
 },
 "nbformat": 4,
 "nbformat_minor": 2
}
