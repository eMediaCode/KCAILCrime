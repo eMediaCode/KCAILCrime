{
 "cells": [
  {
   "cell_type": "code",
   "execution_count": 1,
   "metadata": {
    "collapsed": true
   },
   "outputs": [],
   "source": [
    "import pandas as pd\n",
    "import numpy as np\n",
    "import matplotlib.pyplot as plt\n",
    "import seaborn as sns\n"
   ]
  },
  {
   "cell_type": "code",
   "execution_count": 2,
   "metadata": {
    "collapsed": true
   },
   "outputs": [],
   "source": [
    "url='D:/CRIMEDATA/KCPD_Crime_Data_2017.csv'"
   ]
  },
  {
   "cell_type": "code",
   "execution_count": 3,
   "metadata": {
    "collapsed": true
   },
   "outputs": [],
   "source": [
    "dataset=pd.read_csv(url)"
   ]
  },
  {
   "cell_type": "code",
   "execution_count": 4,
   "metadata": {},
   "outputs": [
    {
     "data": {
      "text/html": [
       "<div>\n",
       "<style>\n",
       "    .dataframe thead tr:only-child th {\n",
       "        text-align: right;\n",
       "    }\n",
       "\n",
       "    .dataframe thead th {\n",
       "        text-align: left;\n",
       "    }\n",
       "\n",
       "    .dataframe tbody tr th {\n",
       "        vertical-align: top;\n",
       "    }\n",
       "</style>\n",
       "<table border=\"1\" class=\"dataframe\">\n",
       "  <thead>\n",
       "    <tr style=\"text-align: right;\">\n",
       "      <th></th>\n",
       "      <th>Report_No</th>\n",
       "      <th>Reported_Date</th>\n",
       "      <th>Reported_Time</th>\n",
       "      <th>From_Date</th>\n",
       "      <th>From_Time</th>\n",
       "      <th>To_Date</th>\n",
       "      <th>To_Time</th>\n",
       "      <th>Offense</th>\n",
       "      <th>IBRS</th>\n",
       "      <th>Description</th>\n",
       "      <th>...</th>\n",
       "      <th>Rep_Dist</th>\n",
       "      <th>Area</th>\n",
       "      <th>DVFlag</th>\n",
       "      <th>Invl_No</th>\n",
       "      <th>Involvement</th>\n",
       "      <th>Race</th>\n",
       "      <th>Sex</th>\n",
       "      <th>Age</th>\n",
       "      <th>Firearm Used Flag</th>\n",
       "      <th>Location</th>\n",
       "    </tr>\n",
       "  </thead>\n",
       "  <tbody>\n",
       "    <tr>\n",
       "      <th>0</th>\n",
       "      <td>170086272</td>\n",
       "      <td>10/05/2017</td>\n",
       "      <td>10:00</td>\n",
       "      <td>10/04/2017</td>\n",
       "      <td>16:00</td>\n",
       "      <td>10/05/2017</td>\n",
       "      <td>10:00</td>\n",
       "      <td>690</td>\n",
       "      <td>23H</td>\n",
       "      <td>Stealing All Other</td>\n",
       "      <td>...</td>\n",
       "      <td>PJ4582</td>\n",
       "      <td>MPD</td>\n",
       "      <td>U</td>\n",
       "      <td>1</td>\n",
       "      <td>SUS</td>\n",
       "      <td>U</td>\n",
       "      <td>U</td>\n",
       "      <td>NaN</td>\n",
       "      <td>N</td>\n",
       "      <td>400 W 58 ST\\nKANSAS CITY 64113\\n(39.022397, -9...</td>\n",
       "    </tr>\n",
       "    <tr>\n",
       "      <th>1</th>\n",
       "      <td>170026074</td>\n",
       "      <td>04/12/2017</td>\n",
       "      <td>13:01</td>\n",
       "      <td>03/20/2017</td>\n",
       "      <td>11:30</td>\n",
       "      <td>04/11/2017</td>\n",
       "      <td>00:45</td>\n",
       "      <td>630</td>\n",
       "      <td>23C</td>\n",
       "      <td>Stealing Shoplifting</td>\n",
       "      <td>...</td>\n",
       "      <td>PJ2875</td>\n",
       "      <td>EPD</td>\n",
       "      <td>U</td>\n",
       "      <td>1</td>\n",
       "      <td>VIC</td>\n",
       "      <td>NaN</td>\n",
       "      <td>NaN</td>\n",
       "      <td>NaN</td>\n",
       "      <td>N</td>\n",
       "      <td>3500 PROSPECT AV\\nKANSAS CITY 64127\\n</td>\n",
       "    </tr>\n",
       "    <tr>\n",
       "      <th>2</th>\n",
       "      <td>170003559</td>\n",
       "      <td>01/15/2017</td>\n",
       "      <td>02:35</td>\n",
       "      <td>01/15/2017</td>\n",
       "      <td>02:35</td>\n",
       "      <td>NaN</td>\n",
       "      <td>NaN</td>\n",
       "      <td>1850</td>\n",
       "      <td>35B</td>\n",
       "      <td>Possession of Drug E</td>\n",
       "      <td>...</td>\n",
       "      <td>PP0269</td>\n",
       "      <td>NPD</td>\n",
       "      <td>U</td>\n",
       "      <td>1</td>\n",
       "      <td>ARR</td>\n",
       "      <td>B</td>\n",
       "      <td>M</td>\n",
       "      <td>23.0</td>\n",
       "      <td>N</td>\n",
       "      <td>N NW GREEN HILLS RD\\nKANSAS CITY 64152\\n</td>\n",
       "    </tr>\n",
       "    <tr>\n",
       "      <th>3</th>\n",
       "      <td>170001089</td>\n",
       "      <td>01/05/2017</td>\n",
       "      <td>11:40</td>\n",
       "      <td>01/05/2017</td>\n",
       "      <td>11:40</td>\n",
       "      <td>NaN</td>\n",
       "      <td>NaN</td>\n",
       "      <td>1849</td>\n",
       "      <td>35A</td>\n",
       "      <td>Possession/Sale/Dist</td>\n",
       "      <td>...</td>\n",
       "      <td>PJ1046</td>\n",
       "      <td>CPD</td>\n",
       "      <td>U</td>\n",
       "      <td>1</td>\n",
       "      <td>VIC</td>\n",
       "      <td>NaN</td>\n",
       "      <td>NaN</td>\n",
       "      <td>NaN</td>\n",
       "      <td>N</td>\n",
       "      <td>1100 TROOST AV\\nKANSAS CITY 64106\\n(39.10068, ...</td>\n",
       "    </tr>\n",
       "    <tr>\n",
       "      <th>4</th>\n",
       "      <td>170007467</td>\n",
       "      <td>01/30/2017</td>\n",
       "      <td>13:04</td>\n",
       "      <td>01/27/2017</td>\n",
       "      <td>21:25</td>\n",
       "      <td>01/27/2017</td>\n",
       "      <td>22:30</td>\n",
       "      <td>670</td>\n",
       "      <td>23D</td>\n",
       "      <td>Stealing from Buildi</td>\n",
       "      <td>...</td>\n",
       "      <td>PJ2012</td>\n",
       "      <td>EPD</td>\n",
       "      <td>U</td>\n",
       "      <td>1</td>\n",
       "      <td>VIC</td>\n",
       "      <td>B</td>\n",
       "      <td>F</td>\n",
       "      <td>38.0</td>\n",
       "      <td>N</td>\n",
       "      <td>4800 E 24 ST\\nKANSAS CITY 64127\\n(39.08209, -9...</td>\n",
       "    </tr>\n",
       "  </tbody>\n",
       "</table>\n",
       "<p>5 rows × 24 columns</p>\n",
       "</div>"
      ],
      "text/plain": [
       "   Report_No Reported_Date Reported_Time   From_Date From_Time     To_Date  \\\n",
       "0  170086272    10/05/2017         10:00  10/04/2017     16:00  10/05/2017   \n",
       "1  170026074    04/12/2017         13:01  03/20/2017     11:30  04/11/2017   \n",
       "2  170003559    01/15/2017         02:35  01/15/2017     02:35         NaN   \n",
       "3  170001089    01/05/2017         11:40  01/05/2017     11:40         NaN   \n",
       "4  170007467    01/30/2017         13:04  01/27/2017     21:25  01/27/2017   \n",
       "\n",
       "  To_Time  Offense IBRS           Description  \\\n",
       "0   10:00      690  23H    Stealing All Other   \n",
       "1   00:45      630  23C  Stealing Shoplifting   \n",
       "2     NaN     1850  35B  Possession of Drug E   \n",
       "3     NaN     1849  35A  Possession/Sale/Dist   \n",
       "4   22:30      670  23D  Stealing from Buildi   \n",
       "\n",
       "                         ...                          Rep_Dist Area DVFlag  \\\n",
       "0                        ...                            PJ4582  MPD      U   \n",
       "1                        ...                            PJ2875  EPD      U   \n",
       "2                        ...                            PP0269  NPD      U   \n",
       "3                        ...                            PJ1046  CPD      U   \n",
       "4                        ...                            PJ2012  EPD      U   \n",
       "\n",
       "   Invl_No Involvement Race  Sex   Age Firearm Used Flag  \\\n",
       "0        1         SUS    U    U   NaN                 N   \n",
       "1        1         VIC  NaN  NaN   NaN                 N   \n",
       "2        1         ARR    B    M  23.0                 N   \n",
       "3        1         VIC  NaN  NaN   NaN                 N   \n",
       "4        1         VIC    B    F  38.0                 N   \n",
       "\n",
       "                                            Location  \n",
       "0  400 W 58 ST\\nKANSAS CITY 64113\\n(39.022397, -9...  \n",
       "1              3500 PROSPECT AV\\nKANSAS CITY 64127\\n  \n",
       "2           N NW GREEN HILLS RD\\nKANSAS CITY 64152\\n  \n",
       "3  1100 TROOST AV\\nKANSAS CITY 64106\\n(39.10068, ...  \n",
       "4  4800 E 24 ST\\nKANSAS CITY 64127\\n(39.08209, -9...  \n",
       "\n",
       "[5 rows x 24 columns]"
      ]
     },
     "execution_count": 4,
     "metadata": {},
     "output_type": "execute_result"
    }
   ],
   "source": [
    "dataset.head(5)"
   ]
  },
  {
   "cell_type": "code",
   "execution_count": 807,
   "metadata": {},
   "outputs": [
    {
     "data": {
      "text/html": [
       "<div>\n",
       "<style>\n",
       "    .dataframe thead tr:only-child th {\n",
       "        text-align: right;\n",
       "    }\n",
       "\n",
       "    .dataframe thead th {\n",
       "        text-align: left;\n",
       "    }\n",
       "\n",
       "    .dataframe tbody tr th {\n",
       "        vertical-align: top;\n",
       "    }\n",
       "</style>\n",
       "<table border=\"1\" class=\"dataframe\">\n",
       "  <thead>\n",
       "    <tr style=\"text-align: right;\">\n",
       "      <th></th>\n",
       "      <th>Report_No</th>\n",
       "      <th>Offense</th>\n",
       "      <th>Beat</th>\n",
       "      <th>Zip Code</th>\n",
       "      <th>Invl_No</th>\n",
       "      <th>Age</th>\n",
       "    </tr>\n",
       "  </thead>\n",
       "  <tbody>\n",
       "    <tr>\n",
       "      <th>count</th>\n",
       "      <td>1.321390e+05</td>\n",
       "      <td>132139.000000</td>\n",
       "      <td>131293.000000</td>\n",
       "      <td>132139.000000</td>\n",
       "      <td>132139.000000</td>\n",
       "      <td>71014.000000</td>\n",
       "    </tr>\n",
       "    <tr>\n",
       "      <th>mean</th>\n",
       "      <td>1.700392e+08</td>\n",
       "      <td>996.372131</td>\n",
       "      <td>328.665626</td>\n",
       "      <td>65068.210445</td>\n",
       "      <td>1.267446</td>\n",
       "      <td>37.493142</td>\n",
       "    </tr>\n",
       "    <tr>\n",
       "      <th>std</th>\n",
       "      <td>5.539807e+05</td>\n",
       "      <td>645.601640</td>\n",
       "      <td>195.853709</td>\n",
       "      <td>5764.338055</td>\n",
       "      <td>1.026722</td>\n",
       "      <td>15.185495</td>\n",
       "    </tr>\n",
       "    <tr>\n",
       "      <th>min</th>\n",
       "      <td>1.000808e+08</td>\n",
       "      <td>101.000000</td>\n",
       "      <td>0.000000</td>\n",
       "      <td>20619.000000</td>\n",
       "      <td>1.000000</td>\n",
       "      <td>18.000000</td>\n",
       "    </tr>\n",
       "    <tr>\n",
       "      <th>25%</th>\n",
       "      <td>1.700239e+08</td>\n",
       "      <td>630.000000</td>\n",
       "      <td>212.000000</td>\n",
       "      <td>64114.000000</td>\n",
       "      <td>1.000000</td>\n",
       "      <td>26.000000</td>\n",
       "    </tr>\n",
       "    <tr>\n",
       "      <th>50%</th>\n",
       "      <td>1.700588e+08</td>\n",
       "      <td>702.000000</td>\n",
       "      <td>315.000000</td>\n",
       "      <td>64127.000000</td>\n",
       "      <td>1.000000</td>\n",
       "      <td>34.000000</td>\n",
       "    </tr>\n",
       "    <tr>\n",
       "      <th>75%</th>\n",
       "      <td>1.700836e+08</td>\n",
       "      <td>1401.000000</td>\n",
       "      <td>422.000000</td>\n",
       "      <td>64133.000000</td>\n",
       "      <td>1.000000</td>\n",
       "      <td>47.000000</td>\n",
       "    </tr>\n",
       "    <tr>\n",
       "      <th>max</th>\n",
       "      <td>1.717068e+08</td>\n",
       "      <td>3079.000000</td>\n",
       "      <td>9514.000000</td>\n",
       "      <td>99999.000000</td>\n",
       "      <td>30.000000</td>\n",
       "      <td>507.000000</td>\n",
       "    </tr>\n",
       "  </tbody>\n",
       "</table>\n",
       "</div>"
      ],
      "text/plain": [
       "          Report_No        Offense           Beat       Zip Code  \\\n",
       "count  1.321390e+05  132139.000000  131293.000000  132139.000000   \n",
       "mean   1.700392e+08     996.372131     328.665626   65068.210445   \n",
       "std    5.539807e+05     645.601640     195.853709    5764.338055   \n",
       "min    1.000808e+08     101.000000       0.000000   20619.000000   \n",
       "25%    1.700239e+08     630.000000     212.000000   64114.000000   \n",
       "50%    1.700588e+08     702.000000     315.000000   64127.000000   \n",
       "75%    1.700836e+08    1401.000000     422.000000   64133.000000   \n",
       "max    1.717068e+08    3079.000000    9514.000000   99999.000000   \n",
       "\n",
       "             Invl_No           Age  \n",
       "count  132139.000000  71014.000000  \n",
       "mean        1.267446     37.493142  \n",
       "std         1.026722     15.185495  \n",
       "min         1.000000     18.000000  \n",
       "25%         1.000000     26.000000  \n",
       "50%         1.000000     34.000000  \n",
       "75%         1.000000     47.000000  \n",
       "max        30.000000    507.000000  "
      ]
     },
     "execution_count": 807,
     "metadata": {},
     "output_type": "execute_result"
    }
   ],
   "source": [
    "dataset.describe()"
   ]
  },
  {
   "cell_type": "code",
   "execution_count": 8,
   "metadata": {},
   "outputs": [
    {
     "name": "stdout",
     "output_type": "stream",
     "text": [
      "There is a mean of 37.49314219729962, and a median of 37.493142197313205. Which would be the most appropriate for this dataset?\n"
     ]
    }
   ],
   "source": [
    "print('There is a mean of {}, and a median of {}. Which would be the most appropriate for this dataset?'.format(\n",
    "    dataset['Age'].mean(), dataset.Age.median()))"
   ]
  },
  {
   "cell_type": "code",
   "execution_count": 9,
   "metadata": {
    "collapsed": true
   },
   "outputs": [],
   "source": [
    "dataset['Age'].fillna(dataset.Age.mean(), inplace=True)"
   ]
  },
  {
   "cell_type": "code",
   "execution_count": 10,
   "metadata": {},
   "outputs": [
    {
     "name": "stdout",
     "output_type": "stream",
     "text": [
      "<class 'pandas.core.frame.DataFrame'>\n",
      "RangeIndex: 132139 entries, 0 to 132138\n",
      "Data columns (total 24 columns):\n",
      "Report_No            132139 non-null int64\n",
      "Reported_Date        132139 non-null object\n",
      "Reported_Time        132139 non-null object\n",
      "From_Date            131844 non-null object\n",
      "From_Time            131744 non-null object\n",
      "To_Date              49634 non-null object\n",
      "To_Time              49140 non-null object\n",
      "Offense              132139 non-null int64\n",
      "IBRS                 131044 non-null object\n",
      "Description          132139 non-null object\n",
      "Beat                 131293 non-null float64\n",
      "Address              132115 non-null object\n",
      "City                 132101 non-null object\n",
      "Zip Code             132139 non-null int64\n",
      "Rep_Dist             131132 non-null object\n",
      "Area                 131132 non-null object\n",
      "DVFlag               132139 non-null object\n",
      "Invl_No              132139 non-null int64\n",
      "Involvement          132139 non-null object\n",
      "Race                 114090 non-null object\n",
      "Sex                  114090 non-null object\n",
      "Age                  132139 non-null float64\n",
      "Firearm Used Flag    132139 non-null object\n",
      "Location             132139 non-null object\n",
      "dtypes: float64(2), int64(4), object(18)\n",
      "memory usage: 24.2+ MB\n"
     ]
    }
   ],
   "source": [
    "dataset.info()"
   ]
  },
  {
   "cell_type": "code",
   "execution_count": 11,
   "metadata": {
    "collapsed": true
   },
   "outputs": [],
   "source": [
    "def describe_categorical(X):\n",
    "    \"\"\"\n",
    "    This will create a table for looking at the categorical variables based on the dtype\n",
    "    \"\"\"\n",
    "    from IPython.display import display, HTML\n",
    "    display(HTML(X[X.columns[X.dtypes == 'object']].describe().to_html()))"
   ]
  },
  {
   "cell_type": "code",
   "execution_count": 812,
   "metadata": {},
   "outputs": [
    {
     "data": {
      "text/html": [
       "<table border=\"1\" class=\"dataframe\">\n",
       "  <thead>\n",
       "    <tr style=\"text-align: right;\">\n",
       "      <th></th>\n",
       "      <th>Reported_Date</th>\n",
       "      <th>Reported_Time</th>\n",
       "      <th>From_Date</th>\n",
       "      <th>From_Time</th>\n",
       "      <th>To_Date</th>\n",
       "      <th>To_Time</th>\n",
       "      <th>IBRS</th>\n",
       "      <th>Description</th>\n",
       "      <th>Address</th>\n",
       "      <th>City</th>\n",
       "      <th>Rep_Dist</th>\n",
       "      <th>Area</th>\n",
       "      <th>DVFlag</th>\n",
       "      <th>Involvement</th>\n",
       "      <th>Race</th>\n",
       "      <th>Sex</th>\n",
       "      <th>Firearm Used Flag</th>\n",
       "      <th>Location</th>\n",
       "    </tr>\n",
       "  </thead>\n",
       "  <tbody>\n",
       "    <tr>\n",
       "      <th>count</th>\n",
       "      <td>132139</td>\n",
       "      <td>132139</td>\n",
       "      <td>131844</td>\n",
       "      <td>131744</td>\n",
       "      <td>49634</td>\n",
       "      <td>49140</td>\n",
       "      <td>131044</td>\n",
       "      <td>132139</td>\n",
       "      <td>132115</td>\n",
       "      <td>132101</td>\n",
       "      <td>131132</td>\n",
       "      <td>131132</td>\n",
       "      <td>132139</td>\n",
       "      <td>132139</td>\n",
       "      <td>114090</td>\n",
       "      <td>114090</td>\n",
       "      <td>132139</td>\n",
       "      <td>132139</td>\n",
       "    </tr>\n",
       "    <tr>\n",
       "      <th>unique</th>\n",
       "      <td>365</td>\n",
       "      <td>1440</td>\n",
       "      <td>728</td>\n",
       "      <td>1436</td>\n",
       "      <td>495</td>\n",
       "      <td>1310</td>\n",
       "      <td>56</td>\n",
       "      <td>116</td>\n",
       "      <td>15396</td>\n",
       "      <td>38</td>\n",
       "      <td>6868</td>\n",
       "      <td>9</td>\n",
       "      <td>3</td>\n",
       "      <td>3</td>\n",
       "      <td>7</td>\n",
       "      <td>4</td>\n",
       "      <td>2</td>\n",
       "      <td>23769</td>\n",
       "    </tr>\n",
       "    <tr>\n",
       "      <th>top</th>\n",
       "      <td>02/21/2017</td>\n",
       "      <td>12:00</td>\n",
       "      <td>02/21/2017</td>\n",
       "      <td>12:00</td>\n",
       "      <td>06/18/2017</td>\n",
       "      <td>08:00</td>\n",
       "      <td>13B</td>\n",
       "      <td>Property Damage</td>\n",
       "      <td>11600  E US 40 HW</td>\n",
       "      <td>KANSAS CITY</td>\n",
       "      <td>PJ3601</td>\n",
       "      <td>EPD</td>\n",
       "      <td>U</td>\n",
       "      <td>VIC</td>\n",
       "      <td>B</td>\n",
       "      <td>M</td>\n",
       "      <td>N</td>\n",
       "      <td>11600 E US\\nHW KANSAS CITY 64133\\n</td>\n",
       "    </tr>\n",
       "    <tr>\n",
       "      <th>freq</th>\n",
       "      <td>567</td>\n",
       "      <td>561</td>\n",
       "      <td>523</td>\n",
       "      <td>4610</td>\n",
       "      <td>286</td>\n",
       "      <td>1999</td>\n",
       "      <td>15567</td>\n",
       "      <td>12206</td>\n",
       "      <td>1473</td>\n",
       "      <td>131519</td>\n",
       "      <td>1641</td>\n",
       "      <td>35166</td>\n",
       "      <td>101664</td>\n",
       "      <td>68526</td>\n",
       "      <td>45962</td>\n",
       "      <td>52857</td>\n",
       "      <td>121106</td>\n",
       "      <td>1381</td>\n",
       "    </tr>\n",
       "  </tbody>\n",
       "</table>"
      ],
      "text/plain": [
       "<IPython.core.display.HTML object>"
      ]
     },
     "metadata": {},
     "output_type": "display_data"
    }
   ],
   "source": [
    "describe_categorical(dataset)"
   ]
  },
  {
   "cell_type": "code",
   "execution_count": 14,
   "metadata": {},
   "outputs": [
    {
     "name": "stdout",
     "output_type": "stream",
     "text": [
      "0    96093\n",
      "1    36046\n",
      "Name: Sex, dtype: int64\n",
      "1    121106\n",
      "0     11033\n",
      "Name: Firearm Used Flag, dtype: int64\n"
     ]
    }
   ],
   "source": [
    "print(dataset['Sex'].value_counts())\n",
    "print(dataset['Firearm Used Flag'].value_counts())"
   ]
  },
  {
   "cell_type": "code",
   "execution_count": 13,
   "metadata": {
    "collapsed": true
   },
   "outputs": [],
   "source": [
    "dataset['Sex'] = dataset['Sex'].apply(lambda x: 1 if x == 'F' else 0)\n",
    "dataset['Firearm Used Flag'] = dataset['Firearm Used Flag'].apply(lambda x: 1 if x == 'N' else 0)"
   ]
  },
  {
   "cell_type": "code",
   "execution_count": 15,
   "metadata": {
    "collapsed": true
   },
   "outputs": [],
   "source": [
    "dataset.drop(['Report_No', 'Reported_Date', 'Reported_Time', 'From_Date','From_Time',       \n",
    "'To_Date',              \n",
    "'To_Time' , \n",
    "'IBRS'      ,\n",
    "'Beat'        ,    \n",
    "'Address'      ,       \n",
    "'City'          , \n",
    "'Rep_Dist'        ,   \n",
    "'Area',\n",
    "'DVFlag',  \n",
    "'Invl_No',   \n",
    "'Involvement',  \n",
    "'Race',\n",
    "\n",
    " \n",
    "'Location'\n",
    "], axis=1, inplace=True)"
   ]
  },
  {
   "cell_type": "code",
   "execution_count": null,
   "metadata": {
    "collapsed": true
   },
   "outputs": [],
   "source": []
  },
  {
   "cell_type": "code",
   "execution_count": 16,
   "metadata": {},
   "outputs": [
    {
     "data": {
      "text/html": [
       "<div>\n",
       "<style>\n",
       "    .dataframe thead tr:only-child th {\n",
       "        text-align: right;\n",
       "    }\n",
       "\n",
       "    .dataframe thead th {\n",
       "        text-align: left;\n",
       "    }\n",
       "\n",
       "    .dataframe tbody tr th {\n",
       "        vertical-align: top;\n",
       "    }\n",
       "</style>\n",
       "<table border=\"1\" class=\"dataframe\">\n",
       "  <thead>\n",
       "    <tr style=\"text-align: right;\">\n",
       "      <th></th>\n",
       "      <th>Offense</th>\n",
       "      <th>Description</th>\n",
       "      <th>Zip Code</th>\n",
       "      <th>Sex</th>\n",
       "      <th>Age</th>\n",
       "      <th>Firearm Used Flag</th>\n",
       "    </tr>\n",
       "  </thead>\n",
       "  <tbody>\n",
       "    <tr>\n",
       "      <th>0</th>\n",
       "      <td>690</td>\n",
       "      <td>Stealing All Other</td>\n",
       "      <td>64113</td>\n",
       "      <td>0</td>\n",
       "      <td>37.493142</td>\n",
       "      <td>1</td>\n",
       "    </tr>\n",
       "    <tr>\n",
       "      <th>1</th>\n",
       "      <td>630</td>\n",
       "      <td>Stealing Shoplifting</td>\n",
       "      <td>64127</td>\n",
       "      <td>0</td>\n",
       "      <td>37.493142</td>\n",
       "      <td>1</td>\n",
       "    </tr>\n",
       "    <tr>\n",
       "      <th>2</th>\n",
       "      <td>1850</td>\n",
       "      <td>Possession of Drug E</td>\n",
       "      <td>64152</td>\n",
       "      <td>0</td>\n",
       "      <td>23.000000</td>\n",
       "      <td>1</td>\n",
       "    </tr>\n",
       "    <tr>\n",
       "      <th>3</th>\n",
       "      <td>1849</td>\n",
       "      <td>Possession/Sale/Dist</td>\n",
       "      <td>64106</td>\n",
       "      <td>0</td>\n",
       "      <td>37.493142</td>\n",
       "      <td>1</td>\n",
       "    </tr>\n",
       "    <tr>\n",
       "      <th>4</th>\n",
       "      <td>670</td>\n",
       "      <td>Stealing from Buildi</td>\n",
       "      <td>64127</td>\n",
       "      <td>1</td>\n",
       "      <td>38.000000</td>\n",
       "      <td>1</td>\n",
       "    </tr>\n",
       "  </tbody>\n",
       "</table>\n",
       "</div>"
      ],
      "text/plain": [
       "   Offense           Description  Zip Code  Sex        Age  Firearm Used Flag\n",
       "0      690    Stealing All Other     64113    0  37.493142                  1\n",
       "1      630  Stealing Shoplifting     64127    0  37.493142                  1\n",
       "2     1850  Possession of Drug E     64152    0  23.000000                  1\n",
       "3     1849  Possession/Sale/Dist     64106    0  37.493142                  1\n",
       "4      670  Stealing from Buildi     64127    1  38.000000                  1"
      ]
     },
     "execution_count": 16,
     "metadata": {},
     "output_type": "execute_result"
    }
   ],
   "source": [
    "dataset.head()"
   ]
  },
  {
   "cell_type": "code",
   "execution_count": 786,
   "metadata": {
    "collapsed": true
   },
   "outputs": [],
   "source": [
    "#sns.boxplot(x='Zip Code', y='Offense', data=dataset)"
   ]
  },
  {
   "cell_type": "code",
   "execution_count": 787,
   "metadata": {
    "collapsed": true
   },
   "outputs": [],
   "source": [
    "#sns.violinplot(x='Age', y='Offense', data=dataset)"
   ]
  },
  {
   "cell_type": "code",
   "execution_count": 17,
   "metadata": {},
   "outputs": [
    {
     "data": {
      "text/html": [
       "<div>\n",
       "<style>\n",
       "    .dataframe thead tr:only-child th {\n",
       "        text-align: right;\n",
       "    }\n",
       "\n",
       "    .dataframe thead th {\n",
       "        text-align: left;\n",
       "    }\n",
       "\n",
       "    .dataframe tbody tr th {\n",
       "        vertical-align: top;\n",
       "    }\n",
       "</style>\n",
       "<table border=\"1\" class=\"dataframe\">\n",
       "  <thead>\n",
       "    <tr style=\"text-align: right;\">\n",
       "      <th></th>\n",
       "      <th>Offense</th>\n",
       "      <th>Zip Code</th>\n",
       "      <th>Sex</th>\n",
       "      <th>Age</th>\n",
       "      <th>Firearm Used Flag</th>\n",
       "    </tr>\n",
       "  </thead>\n",
       "  <tbody>\n",
       "    <tr>\n",
       "      <th>0</th>\n",
       "      <td>690</td>\n",
       "      <td>64113</td>\n",
       "      <td>0</td>\n",
       "      <td>37.493142</td>\n",
       "      <td>1</td>\n",
       "    </tr>\n",
       "    <tr>\n",
       "      <th>1</th>\n",
       "      <td>630</td>\n",
       "      <td>64127</td>\n",
       "      <td>0</td>\n",
       "      <td>37.493142</td>\n",
       "      <td>1</td>\n",
       "    </tr>\n",
       "    <tr>\n",
       "      <th>2</th>\n",
       "      <td>1850</td>\n",
       "      <td>64152</td>\n",
       "      <td>0</td>\n",
       "      <td>23.000000</td>\n",
       "      <td>1</td>\n",
       "    </tr>\n",
       "    <tr>\n",
       "      <th>3</th>\n",
       "      <td>1849</td>\n",
       "      <td>64106</td>\n",
       "      <td>0</td>\n",
       "      <td>37.493142</td>\n",
       "      <td>1</td>\n",
       "    </tr>\n",
       "    <tr>\n",
       "      <th>4</th>\n",
       "      <td>670</td>\n",
       "      <td>64127</td>\n",
       "      <td>1</td>\n",
       "      <td>38.000000</td>\n",
       "      <td>1</td>\n",
       "    </tr>\n",
       "  </tbody>\n",
       "</table>\n",
       "</div>"
      ],
      "text/plain": [
       "   Offense  Zip Code  Sex        Age  Firearm Used Flag\n",
       "0      690     64113    0  37.493142                  1\n",
       "1      630     64127    0  37.493142                  1\n",
       "2     1850     64152    0  23.000000                  1\n",
       "3     1849     64106    0  37.493142                  1\n",
       "4      670     64127    1  38.000000                  1"
      ]
     },
     "execution_count": 17,
     "metadata": {},
     "output_type": "execute_result"
    }
   ],
   "source": [
    "dataset.drop(['Description'], axis=1, inplace=True)\n",
    "\n",
    "dataset.head()"
   ]
  },
  {
   "cell_type": "code",
   "execution_count": 19,
   "metadata": {
    "collapsed": true
   },
   "outputs": [],
   "source": [
    "from sklearn.model_selection import train_test_split\n",
    "from sklearn.linear_model import LinearRegression"
   ]
  },
  {
   "cell_type": "code",
   "execution_count": 20,
   "metadata": {
    "collapsed": true
   },
   "outputs": [],
   "source": [
    "dataset.head(20)\n",
    "X=dataset\n",
    "y=X.pop('Offense')\n"
   ]
  },
  {
   "cell_type": "code",
   "execution_count": null,
   "metadata": {
    "collapsed": true
   },
   "outputs": [],
   "source": []
  },
  {
   "cell_type": "code",
   "execution_count": 21,
   "metadata": {
    "collapsed": true
   },
   "outputs": [],
   "source": [
    "X_train, X_test, y_train, y_test = train_test_split(X, y, test_size=.2, random_state=0)"
   ]
  },
  {
   "cell_type": "code",
   "execution_count": 22,
   "metadata": {
    "collapsed": true
   },
   "outputs": [],
   "source": [
    "lr_model = LinearRegression()"
   ]
  },
  {
   "cell_type": "code",
   "execution_count": 23,
   "metadata": {},
   "outputs": [
    {
     "data": {
      "text/plain": [
       "184.19902322643998"
      ]
     },
     "execution_count": 23,
     "metadata": {},
     "output_type": "execute_result"
    }
   ],
   "source": [
    "lr_model.fit(X_train, y_train)\n",
    "lr_model.coef_\n",
    "lr_model.intercept_"
   ]
  },
  {
   "cell_type": "code",
   "execution_count": 24,
   "metadata": {},
   "outputs": [
    {
     "data": {
      "text/html": [
       "<div>\n",
       "<style>\n",
       "    .dataframe thead tr:only-child th {\n",
       "        text-align: right;\n",
       "    }\n",
       "\n",
       "    .dataframe thead th {\n",
       "        text-align: left;\n",
       "    }\n",
       "\n",
       "    .dataframe tbody tr th {\n",
       "        vertical-align: top;\n",
       "    }\n",
       "</style>\n",
       "<table border=\"1\" class=\"dataframe\">\n",
       "  <thead>\n",
       "    <tr style=\"text-align: right;\">\n",
       "      <th></th>\n",
       "      <th>Coefficient</th>\n",
       "    </tr>\n",
       "  </thead>\n",
       "  <tbody>\n",
       "    <tr>\n",
       "      <th>Zip Code</th>\n",
       "      <td>0.005481</td>\n",
       "    </tr>\n",
       "    <tr>\n",
       "      <th>Sex</th>\n",
       "      <td>-68.066383</td>\n",
       "    </tr>\n",
       "    <tr>\n",
       "      <th>Age</th>\n",
       "      <td>-0.844611</td>\n",
       "    </tr>\n",
       "    <tr>\n",
       "      <th>Firearm Used Flag</th>\n",
       "      <td>550.160624</td>\n",
       "    </tr>\n",
       "  </tbody>\n",
       "</table>\n",
       "</div>"
      ],
      "text/plain": [
       "                   Coefficient\n",
       "Zip Code              0.005481\n",
       "Sex                 -68.066383\n",
       "Age                  -0.844611\n",
       "Firearm Used Flag   550.160624"
      ]
     },
     "execution_count": 24,
     "metadata": {},
     "output_type": "execute_result"
    }
   ],
   "source": [
    "coeff_df= pd.DataFrame(lr_model.coef_,X.columns, columns=['Coefficient'])  \n",
    "coeff_df"
   ]
  },
  {
   "cell_type": "code",
   "execution_count": 25,
   "metadata": {},
   "outputs": [
    {
     "data": {
      "text/html": [
       "<div>\n",
       "<style>\n",
       "    .dataframe thead tr:only-child th {\n",
       "        text-align: right;\n",
       "    }\n",
       "\n",
       "    .dataframe thead th {\n",
       "        text-align: left;\n",
       "    }\n",
       "\n",
       "    .dataframe tbody tr th {\n",
       "        vertical-align: top;\n",
       "    }\n",
       "</style>\n",
       "<table border=\"1\" class=\"dataframe\">\n",
       "  <thead>\n",
       "    <tr style=\"text-align: right;\">\n",
       "      <th></th>\n",
       "      <th>Actual</th>\n",
       "      <th>Predicted</th>\n",
       "    </tr>\n",
       "  </thead>\n",
       "  <tbody>\n",
       "    <tr>\n",
       "      <th>44820</th>\n",
       "      <td>1050</td>\n",
       "      <td>995.986442</td>\n",
       "    </tr>\n",
       "    <tr>\n",
       "      <th>25360</th>\n",
       "      <td>401</td>\n",
       "      <td>468.157157</td>\n",
       "    </tr>\n",
       "    <tr>\n",
       "      <th>119881</th>\n",
       "      <td>640</td>\n",
       "      <td>993.211432</td>\n",
       "    </tr>\n",
       "    <tr>\n",
       "      <th>89737</th>\n",
       "      <td>670</td>\n",
       "      <td>1000.917073</td>\n",
       "    </tr>\n",
       "    <tr>\n",
       "      <th>14349</th>\n",
       "      <td>1188</td>\n",
       "      <td>1054.345594</td>\n",
       "    </tr>\n",
       "  </tbody>\n",
       "</table>\n",
       "</div>"
      ],
      "text/plain": [
       "        Actual    Predicted\n",
       "44820     1050   995.986442\n",
       "25360      401   468.157157\n",
       "119881     640   993.211432\n",
       "89737      670  1000.917073\n",
       "14349     1188  1054.345594"
      ]
     },
     "execution_count": 25,
     "metadata": {},
     "output_type": "execute_result"
    }
   ],
   "source": [
    "y_pred = lr_model.predict(X_test)  \n",
    "df = pd.DataFrame({'Actual': y_test, 'Predicted': y_pred})\n",
    "df.head(5)"
   ]
  },
  {
   "cell_type": "code",
   "execution_count": 833,
   "metadata": {},
   "outputs": [
    {
     "name": "stdout",
     "output_type": "stream",
     "text": [
      "Mean Absolute Error: 496.477145117\n",
      "Mean Squared Error: 396055.168181\n",
      "Root Mean Squared Error: 629.329141373\n",
      "Root Mean Squared Error: 1.90496843656\n"
     ]
    }
   ],
   "source": [
    "\n",
    "from sklearn import metrics  \n",
    "print('Mean Absolute Error:', metrics.mean_absolute_error(y_test, y_pred))  \n",
    "print('Mean Squared Error:', metrics.mean_squared_error(y_test, y_pred))  \n",
    "print('Root Mean Squared Error:', np.sqrt(metrics.mean_squared_error(y_test, y_pred))  )\n",
    "print('Root Mean Squared Error:', (metrics.mean_squared_error(y_test, y_pred)**(0.05))  )"
   ]
  },
  {
   "cell_type": "code",
   "execution_count": 834,
   "metadata": {},
   "outputs": [
    {
     "name": "stdout",
     "output_type": "stream",
     "text": [
      "R^2:  0.0589327305382\n"
     ]
    }
   ],
   "source": [
    "from sklearn.metrics import r2_score\n",
    "print(\"R^2: \", r2_score(y_test, y_pred))"
   ]
  },
  {
   "cell_type": "code",
   "execution_count": 835,
   "metadata": {},
   "outputs": [
    {
     "data": {
      "image/png": "[encoded data removed]",
      "text/plain": [
       "<matplotlib.figure.Figure at 0x372668d0>"
      ]
     },
     "metadata": {},
     "output_type": "display_data"
    }
   ],
   "source": [
    "plt.scatter(X_test['Zip Code'], y_test, color = 'red')\n",
    "plt.plot(X_test, lr_model.predict(X_test), color='blue')\n",
    "plt.xlabel('Zip_Code')\n",
    "plt.ylabel('Offense')\n",
    "plt.show()"
   ]
  },
  {
   "cell_type": "code",
   "execution_count": 832,
   "metadata": {},
   "outputs": [
    {
     "name": "stdout",
     "output_type": "stream",
     "text": [
      "The model Y =   [  5.48130394e-03  -6.80663826e+01  -8.44610632e-01   5.50160624e+02]  * X  +  184.199023226\n"
     ]
    }
   ],
   "source": [
    "print(\"The model Y =  \", lr_model.coef_, \" * X  + \", lr_model.intercept_)"
   ]
  },
  {
   "cell_type": "code",
   "execution_count": 831,
   "metadata": {},
   "outputs": [
    {
     "ename": "StopIteration",
     "evalue": "",
     "output_type": "error",
     "traceback": [
      "\u001b[1;31m---------------------------------------------------------------------------\u001b[0m",
      "\u001b[1;31mStopIteration\u001b[0m                             Traceback (most recent call last)",
      "\u001b[1;32m<ipython-input-831-ed73ebbf5a3a>\u001b[0m in \u001b[0;36m<module>\u001b[1;34m()\u001b[0m\n\u001b[0;32m      1\u001b[0m sns.pointplot(x=\"Zip Code\", hue=\"Firearm Used Flag\", data=dataset,\n\u001b[1;32m----> 2\u001b[1;33m               palette={\"Y\": \"blue\", \"N\": \"pink\"});\n\u001b[0m",
      "\u001b[1;32mC:\\Program Files (x86)\\Microsoft Visual Studio\\Shared\\Anaconda3_64\\lib\\site-packages\\seaborn\\categorical.py\u001b[0m in \u001b[0;36mpointplot\u001b[1;34m(x, y, hue, data, order, hue_order, estimator, ci, n_boot, units, markers, linestyles, dodge, join, scale, orient, color, palette, errwidth, capsize, ax, **kwargs)\u001b[0m\n\u001b[0;32m   3122\u001b[0m                             \u001b[0mestimator\u001b[0m\u001b[1;33m,\u001b[0m \u001b[0mci\u001b[0m\u001b[1;33m,\u001b[0m \u001b[0mn_boot\u001b[0m\u001b[1;33m,\u001b[0m \u001b[0munits\u001b[0m\u001b[1;33m,\u001b[0m\u001b[1;33m\u001b[0m\u001b[0m\n\u001b[0;32m   3123\u001b[0m                             \u001b[0mmarkers\u001b[0m\u001b[1;33m,\u001b[0m \u001b[0mlinestyles\u001b[0m\u001b[1;33m,\u001b[0m \u001b[0mdodge\u001b[0m\u001b[1;33m,\u001b[0m \u001b[0mjoin\u001b[0m\u001b[1;33m,\u001b[0m \u001b[0mscale\u001b[0m\u001b[1;33m,\u001b[0m\u001b[1;33m\u001b[0m\u001b[0m\n\u001b[1;32m-> 3124\u001b[1;33m                             orient, color, palette, errwidth, capsize)\n\u001b[0m\u001b[0;32m   3125\u001b[0m \u001b[1;33m\u001b[0m\u001b[0m\n\u001b[0;32m   3126\u001b[0m     \u001b[1;32mif\u001b[0m \u001b[0max\u001b[0m \u001b[1;32mis\u001b[0m \u001b[1;32mNone\u001b[0m\u001b[1;33m:\u001b[0m\u001b[1;33m\u001b[0m\u001b[0m\n",
      "\u001b[1;32mC:\\Program Files (x86)\\Microsoft Visual Studio\\Shared\\Anaconda3_64\\lib\\site-packages\\seaborn\\categorical.py\u001b[0m in \u001b[0;36m__init__\u001b[1;34m(self, x, y, hue, data, order, hue_order, estimator, ci, n_boot, units, markers, linestyles, dodge, join, scale, orient, color, palette, errwidth, capsize)\u001b[0m\n\u001b[0;32m   1653\u001b[0m         self.establish_variables(x, y, hue, data, orient,\n\u001b[0;32m   1654\u001b[0m                                  order, hue_order, units)\n\u001b[1;32m-> 1655\u001b[1;33m         \u001b[0mself\u001b[0m\u001b[1;33m.\u001b[0m\u001b[0mestablish_colors\u001b[0m\u001b[1;33m(\u001b[0m\u001b[0mcolor\u001b[0m\u001b[1;33m,\u001b[0m \u001b[0mpalette\u001b[0m\u001b[1;33m,\u001b[0m \u001b[1;36m1\u001b[0m\u001b[1;33m)\u001b[0m\u001b[1;33m\u001b[0m\u001b[0m\n\u001b[0m\u001b[0;32m   1656\u001b[0m         \u001b[0mself\u001b[0m\u001b[1;33m.\u001b[0m\u001b[0mestimate_statistic\u001b[0m\u001b[1;33m(\u001b[0m\u001b[0mestimator\u001b[0m\u001b[1;33m,\u001b[0m \u001b[0mci\u001b[0m\u001b[1;33m,\u001b[0m \u001b[0mn_boot\u001b[0m\u001b[1;33m)\u001b[0m\u001b[1;33m\u001b[0m\u001b[0m\n\u001b[0;32m   1657\u001b[0m \u001b[1;33m\u001b[0m\u001b[0m\n",
      "\u001b[1;32mC:\\Program Files (x86)\\Microsoft Visual Studio\\Shared\\Anaconda3_64\\lib\\site-packages\\seaborn\\categorical.py\u001b[0m in \u001b[0;36mestablish_colors\u001b[1;34m(self, color, palette, saturation)\u001b[0m\n\u001b[0;32m    293\u001b[0m                 \u001b[0mpalette\u001b[0m \u001b[1;33m=\u001b[0m \u001b[1;33m[\u001b[0m\u001b[0mpalette\u001b[0m\u001b[1;33m[\u001b[0m\u001b[0ml\u001b[0m\u001b[1;33m]\u001b[0m \u001b[1;32mfor\u001b[0m \u001b[0ml\u001b[0m \u001b[1;32min\u001b[0m \u001b[0mlevels\u001b[0m\u001b[1;33m]\u001b[0m\u001b[1;33m\u001b[0m\u001b[0m\n\u001b[0;32m    294\u001b[0m \u001b[1;33m\u001b[0m\u001b[0m\n\u001b[1;32m--> 295\u001b[1;33m             \u001b[0mcolors\u001b[0m \u001b[1;33m=\u001b[0m \u001b[0mcolor_palette\u001b[0m\u001b[1;33m(\u001b[0m\u001b[0mpalette\u001b[0m\u001b[1;33m,\u001b[0m \u001b[0mn_colors\u001b[0m\u001b[1;33m)\u001b[0m\u001b[1;33m\u001b[0m\u001b[0m\n\u001b[0m\u001b[0;32m    296\u001b[0m \u001b[1;33m\u001b[0m\u001b[0m\n\u001b[0;32m    297\u001b[0m         \u001b[1;31m# Desaturate a bit because these are patches\u001b[0m\u001b[1;33m\u001b[0m\u001b[1;33m\u001b[0m\u001b[0m\n",
      "\u001b[1;32mC:\\Program Files (x86)\\Microsoft Visual Studio\\Shared\\Anaconda3_64\\lib\\site-packages\\seaborn\\palettes.py\u001b[0m in \u001b[0;36mcolor_palette\u001b[1;34m(palette, n_colors, desat)\u001b[0m\n\u001b[0;32m    184\u001b[0m     \u001b[1;31m# Always return as many colors as we asked for\u001b[0m\u001b[1;33m\u001b[0m\u001b[1;33m\u001b[0m\u001b[0m\n\u001b[0;32m    185\u001b[0m     \u001b[0mpal_cycle\u001b[0m \u001b[1;33m=\u001b[0m \u001b[0mcycle\u001b[0m\u001b[1;33m(\u001b[0m\u001b[0mpalette\u001b[0m\u001b[1;33m)\u001b[0m\u001b[1;33m\u001b[0m\u001b[0m\n\u001b[1;32m--> 186\u001b[1;33m     \u001b[0mpalette\u001b[0m \u001b[1;33m=\u001b[0m \u001b[1;33m[\u001b[0m\u001b[0mnext\u001b[0m\u001b[1;33m(\u001b[0m\u001b[0mpal_cycle\u001b[0m\u001b[1;33m)\u001b[0m \u001b[1;32mfor\u001b[0m \u001b[0m_\u001b[0m \u001b[1;32min\u001b[0m \u001b[0mrange\u001b[0m\u001b[1;33m(\u001b[0m\u001b[0mn_colors\u001b[0m\u001b[1;33m)\u001b[0m\u001b[1;33m]\u001b[0m\u001b[1;33m\u001b[0m\u001b[0m\n\u001b[0m\u001b[0;32m    187\u001b[0m \u001b[1;33m\u001b[0m\u001b[0m\n\u001b[0;32m    188\u001b[0m     \u001b[1;31m# Always return in r, g, b tuple format\u001b[0m\u001b[1;33m\u001b[0m\u001b[1;33m\u001b[0m\u001b[0m\n",
      "\u001b[1;32mC:\\Program Files (x86)\\Microsoft Visual Studio\\Shared\\Anaconda3_64\\lib\\site-packages\\seaborn\\palettes.py\u001b[0m in \u001b[0;36m<listcomp>\u001b[1;34m(.0)\u001b[0m\n\u001b[0;32m    184\u001b[0m     \u001b[1;31m# Always return as many colors as we asked for\u001b[0m\u001b[1;33m\u001b[0m\u001b[1;33m\u001b[0m\u001b[0m\n\u001b[0;32m    185\u001b[0m     \u001b[0mpal_cycle\u001b[0m \u001b[1;33m=\u001b[0m \u001b[0mcycle\u001b[0m\u001b[1;33m(\u001b[0m\u001b[0mpalette\u001b[0m\u001b[1;33m)\u001b[0m\u001b[1;33m\u001b[0m\u001b[0m\n\u001b[1;32m--> 186\u001b[1;33m     \u001b[0mpalette\u001b[0m \u001b[1;33m=\u001b[0m \u001b[1;33m[\u001b[0m\u001b[0mnext\u001b[0m\u001b[1;33m(\u001b[0m\u001b[0mpal_cycle\u001b[0m\u001b[1;33m)\u001b[0m \u001b[1;32mfor\u001b[0m \u001b[0m_\u001b[0m \u001b[1;32min\u001b[0m \u001b[0mrange\u001b[0m\u001b[1;33m(\u001b[0m\u001b[0mn_colors\u001b[0m\u001b[1;33m)\u001b[0m\u001b[1;33m]\u001b[0m\u001b[1;33m\u001b[0m\u001b[0m\n\u001b[0m\u001b[0;32m    187\u001b[0m \u001b[1;33m\u001b[0m\u001b[0m\n\u001b[0;32m    188\u001b[0m     \u001b[1;31m# Always return in r, g, b tuple format\u001b[0m\u001b[1;33m\u001b[0m\u001b[1;33m\u001b[0m\u001b[0m\n",
      "\u001b[1;31mStopIteration\u001b[0m: "
     ]
    }
   ],
   "source": []
  },
  {
   "cell_type": "code",
   "execution_count": 630,
   "metadata": {
    "collapsed": true
   },
   "outputs": [],
   "source": [
    "\n",
    "y_predicted = lr_model.predict(X_test)"
   ]
  },
  {
   "cell_type": "code",
   "execution_count": 762,
   "metadata": {},
   "outputs": [
    {
     "name": "stdout",
     "output_type": "stream",
     "text": [
      "RMSE:  1.36410658213\n"
     ]
    }
   ],
   "source": [
    "from sklearn.metrics import mean_absolute_error\n",
    "print(\"RMSE: \", mean_absolute_error(y_test, y_predicted)**(.05))"
   ]
  },
  {
   "cell_type": "code",
   "execution_count": 763,
   "metadata": {},
   "outputs": [
    {
     "name": "stdout",
     "output_type": "stream",
     "text": [
      "R^2:  0.0564501351435\n"
     ]
    }
   ],
   "source": [
    "from sklearn.metrics import r2_score\n",
    "print(\"R^2: \", r2_score(y_test, y_predicted))"
   ]
  },
  {
   "cell_type": "code",
   "execution_count": null,
   "metadata": {
    "collapsed": true
   },
   "outputs": [],
   "source": []
  },
  {
   "cell_type": "code",
   "execution_count": 764,
   "metadata": {},
   "outputs": [
    {
     "data": {
      "image/png": "[encoded data removed]",
      "text/plain": [
       "<matplotlib.figure.Figure at 0x7ccd2898>"
      ]
     },
     "metadata": {},
     "output_type": "display_data"
    }
   ],
   "source": [
    "plt.scatter(X_test['Zip Code'], y_test, color = 'red')\n",
    "plt.plot(X_test['Zip Code'], lr_model.predict(X_test), color='blue')\n",
    "\n",
    "plt.show()"
   ]
  },
  {
   "cell_type": "code",
   "execution_count": 400,
   "metadata": {},
   "outputs": [
    {
     "data": {
      "image/png": "[encoded data removed]",
      "text/plain": [
       "<matplotlib.figure.Figure at 0x427df390>"
      ]
     },
     "metadata": {},
     "output_type": "display_data"
    }
   ],
   "source": [
    "plt.scatter(X_test['Age'], y_test, color = 'red')\n",
    "plt.plot(X_test['Age'], lr_model.predict(X_test), color='blue')\n",
    "plt.xlabel('Age')\n",
    "plt.ylabel('Offense')\n",
    "plt.show()"
   ]
  },
  {
   "cell_type": "code",
   "execution_count": 765,
   "metadata": {},
   "outputs": [
    {
     "data": {
      "image/png": "[encoded data removed]",
      "text/plain": [
       "<matplotlib.figure.Figure at 0x7cd876d8>"
      ]
     },
     "metadata": {},
     "output_type": "display_data"
    }
   ],
   "source": [
    "plt.scatter(X_test['Firearm Used Flag'], y_test, color = 'red')\n",
    "plt.plot(X_test['Firearm Used Flag'], lr_model.predict(X_test), color='blue')\n",
    "\n",
    "plt.show()"
   ]
  },
  {
   "cell_type": "code",
   "execution_count": 767,
   "metadata": {},
   "outputs": [
    {
     "data": {
      "image/png": "[encoded data removed]",
      "text/plain": [
       "<matplotlib.figure.Figure at 0x7ef4ae48>"
      ]
     },
     "metadata": {},
     "output_type": "display_data"
    }
   ],
   "source": [
    "plt.scatter(X_test['Sex'], y_test, color = 'red')\n",
    "plt.plot(X_test['Sex'], lr_model.predict(X_test), color='blue')\n",
    "\n",
    "plt.show()"
   ]
  },
  {
   "cell_type": "code",
   "execution_count": 766,
   "metadata": {},
   "outputs": [
    {
     "data": {
      "image/png": "[encoded data removed]",
      "text/plain": [
       "<matplotlib.figure.Figure at 0x80748cf8>"
      ]
     },
     "metadata": {},
     "output_type": "display_data"
    },
    {
     "name": "stdout",
     "output_type": "stream",
     "text": [
      "The more linear the graph the better we did at predicting y\n"
     ]
    }
   ],
   "source": [
    "plt.scatter(y_predicted, y_test)\n",
    "plt.xlabel('Y_predicted')\n",
    "plt.ylabel('Y_test')\n",
    "plt.show()\n",
    "print(\"The more linear the graph the better we did at predicting y\")\n"
   ]
  },
  {
   "cell_type": "code",
   "execution_count": 371,
   "metadata": {},
   "outputs": [
    {
     "name": "stdout",
     "output_type": "stream",
     "text": [
      "Lasso(alpha=0.1, copy_X=True, fit_intercept=True, max_iter=1000,\n",
      "   normalize=False, positive=False, precompute=False, random_state=None,\n",
      "   selection='cyclic', tol=0.0001, warm_start=False)\n",
      "r^2 on test data : 0.003652\n"
     ]
    }
   ],
   "source": [
    "from sklearn.linear_model import Lasso\n",
    "\n",
    "alpha = 0.1\n",
    "lasso = Lasso(alpha=alpha)\n",
    "\n",
    "y_pred_lasso = lasso.fit(X_train, y_train).predict(X_test)\n",
    "r2_score_lasso = r2_score(y_test, y_pred_lasso)\n",
    "print(lasso)\n",
    "print(\"r^2 on test data : %f\" % r2_score_lasso)\n"
   ]
  },
  {
   "cell_type": "code",
   "execution_count": 557,
   "metadata": {},
   "outputs": [
    {
     "data": {
      "text/html": [
       "<div>\n",
       "<style>\n",
       "    .dataframe thead tr:only-child th {\n",
       "        text-align: right;\n",
       "    }\n",
       "\n",
       "    .dataframe thead th {\n",
       "        text-align: left;\n",
       "    }\n",
       "\n",
       "    .dataframe tbody tr th {\n",
       "        vertical-align: top;\n",
       "    }\n",
       "</style>\n",
       "<table border=\"1\" class=\"dataframe\">\n",
       "  <thead>\n",
       "    <tr style=\"text-align: right;\">\n",
       "      <th></th>\n",
       "      <th>Zip Code</th>\n",
       "      <th>Sex</th>\n",
       "      <th>Age</th>\n",
       "    </tr>\n",
       "  </thead>\n",
       "  <tbody>\n",
       "    <tr>\n",
       "      <th>0</th>\n",
       "      <td>64113</td>\n",
       "      <td>0</td>\n",
       "      <td>37.493142</td>\n",
       "    </tr>\n",
       "    <tr>\n",
       "      <th>1</th>\n",
       "      <td>64127</td>\n",
       "      <td>0</td>\n",
       "      <td>37.493142</td>\n",
       "    </tr>\n",
       "    <tr>\n",
       "      <th>2</th>\n",
       "      <td>64152</td>\n",
       "      <td>0</td>\n",
       "      <td>23.000000</td>\n",
       "    </tr>\n",
       "    <tr>\n",
       "      <th>3</th>\n",
       "      <td>64106</td>\n",
       "      <td>0</td>\n",
       "      <td>37.493142</td>\n",
       "    </tr>\n",
       "    <tr>\n",
       "      <th>4</th>\n",
       "      <td>64127</td>\n",
       "      <td>1</td>\n",
       "      <td>38.000000</td>\n",
       "    </tr>\n",
       "    <tr>\n",
       "      <th>5</th>\n",
       "      <td>64116</td>\n",
       "      <td>0</td>\n",
       "      <td>37.493142</td>\n",
       "    </tr>\n",
       "    <tr>\n",
       "      <th>6</th>\n",
       "      <td>64106</td>\n",
       "      <td>1</td>\n",
       "      <td>34.000000</td>\n",
       "    </tr>\n",
       "    <tr>\n",
       "      <th>7</th>\n",
       "      <td>64132</td>\n",
       "      <td>0</td>\n",
       "      <td>25.000000</td>\n",
       "    </tr>\n",
       "    <tr>\n",
       "      <th>8</th>\n",
       "      <td>64127</td>\n",
       "      <td>0</td>\n",
       "      <td>37.493142</td>\n",
       "    </tr>\n",
       "    <tr>\n",
       "      <th>9</th>\n",
       "      <td>64105</td>\n",
       "      <td>0</td>\n",
       "      <td>26.000000</td>\n",
       "    </tr>\n",
       "    <tr>\n",
       "      <th>10</th>\n",
       "      <td>64133</td>\n",
       "      <td>0</td>\n",
       "      <td>37.493142</td>\n",
       "    </tr>\n",
       "    <tr>\n",
       "      <th>11</th>\n",
       "      <td>64134</td>\n",
       "      <td>1</td>\n",
       "      <td>42.000000</td>\n",
       "    </tr>\n",
       "    <tr>\n",
       "      <th>12</th>\n",
       "      <td>64109</td>\n",
       "      <td>0</td>\n",
       "      <td>37.493142</td>\n",
       "    </tr>\n",
       "    <tr>\n",
       "      <th>13</th>\n",
       "      <td>64130</td>\n",
       "      <td>0</td>\n",
       "      <td>48.000000</td>\n",
       "    </tr>\n",
       "    <tr>\n",
       "      <th>14</th>\n",
       "      <td>64111</td>\n",
       "      <td>0</td>\n",
       "      <td>40.000000</td>\n",
       "    </tr>\n",
       "    <tr>\n",
       "      <th>15</th>\n",
       "      <td>64111</td>\n",
       "      <td>0</td>\n",
       "      <td>45.000000</td>\n",
       "    </tr>\n",
       "    <tr>\n",
       "      <th>16</th>\n",
       "      <td>64128</td>\n",
       "      <td>0</td>\n",
       "      <td>35.000000</td>\n",
       "    </tr>\n",
       "    <tr>\n",
       "      <th>17</th>\n",
       "      <td>64118</td>\n",
       "      <td>0</td>\n",
       "      <td>37.493142</td>\n",
       "    </tr>\n",
       "    <tr>\n",
       "      <th>18</th>\n",
       "      <td>64132</td>\n",
       "      <td>0</td>\n",
       "      <td>37.493142</td>\n",
       "    </tr>\n",
       "    <tr>\n",
       "      <th>19</th>\n",
       "      <td>64129</td>\n",
       "      <td>1</td>\n",
       "      <td>19.000000</td>\n",
       "    </tr>\n",
       "  </tbody>\n",
       "</table>\n",
       "</div>"
      ],
      "text/plain": [
       "    Zip Code  Sex        Age\n",
       "0      64113    0  37.493142\n",
       "1      64127    0  37.493142\n",
       "2      64152    0  23.000000\n",
       "3      64106    0  37.493142\n",
       "4      64127    1  38.000000\n",
       "5      64116    0  37.493142\n",
       "6      64106    1  34.000000\n",
       "7      64132    0  25.000000\n",
       "8      64127    0  37.493142\n",
       "9      64105    0  26.000000\n",
       "10     64133    0  37.493142\n",
       "11     64134    1  42.000000\n",
       "12     64109    0  37.493142\n",
       "13     64130    0  48.000000\n",
       "14     64111    0  40.000000\n",
       "15     64111    0  45.000000\n",
       "16     64128    0  35.000000\n",
       "17     64118    0  37.493142\n",
       "18     64132    0  37.493142\n",
       "19     64129    1  19.000000"
      ]
     },
     "execution_count": 557,
     "metadata": {},
     "output_type": "execute_result"
    }
   ],
   "source": [
    "###########\n",
    "dataset.head(20)"
   ]
  },
  {
   "cell_type": "code",
   "execution_count": 612,
   "metadata": {
    "collapsed": true
   },
   "outputs": [],
   "source": [
    "dataset.drop(['Report_No', 'Reported_Date', 'Reported_Time', 'From_Date','From_Time',       \n",
    "'To_Date',              \n",
    "'To_Time' , \n",
    "'IBRS'      ,\n",
    "'Beat'        ,    \n",
    "'Address'      ,       \n",
    "'City'          , \n",
    "'Rep_Dist'        ,   \n",
    "\n",
    "'DVFlag',  \n",
    "'Invl_No',   \n",
    "'Involvement',  \n",
    "'Race',\n",
    "\n",
    "\n",
    "'Location'\n",
    "], axis=1, inplace=True)"
   ]
  },
  {
   "cell_type": "code",
   "execution_count": 613,
   "metadata": {
    "collapsed": true
   },
   "outputs": [],
   "source": [
    "\n",
    "dataset.drop(['Area','Sex','Age'\n",
    "], axis=1, inplace=True)"
   ]
  },
  {
   "cell_type": "code",
   "execution_count": 614,
   "metadata": {},
   "outputs": [
    {
     "ename": "KeyError",
     "evalue": "'Area'",
     "output_type": "error",
     "traceback": [
      "\u001b[1;31m---------------------------------------------------------------------------\u001b[0m",
      "\u001b[1;31mKeyError\u001b[0m                                  Traceback (most recent call last)",
      "\u001b[1;32mC:\\Program Files (x86)\\Microsoft Visual Studio\\Shared\\Anaconda3_64\\lib\\site-packages\\pandas\\core\\indexes\\base.py\u001b[0m in \u001b[0;36mget_loc\u001b[1;34m(self, key, method, tolerance)\u001b[0m\n\u001b[0;32m   2441\u001b[0m             \u001b[1;32mtry\u001b[0m\u001b[1;33m:\u001b[0m\u001b[1;33m\u001b[0m\u001b[0m\n\u001b[1;32m-> 2442\u001b[1;33m                 \u001b[1;32mreturn\u001b[0m \u001b[0mself\u001b[0m\u001b[1;33m.\u001b[0m\u001b[0m_engine\u001b[0m\u001b[1;33m.\u001b[0m\u001b[0mget_loc\u001b[0m\u001b[1;33m(\u001b[0m\u001b[0mkey\u001b[0m\u001b[1;33m)\u001b[0m\u001b[1;33m\u001b[0m\u001b[0m\n\u001b[0m\u001b[0;32m   2443\u001b[0m             \u001b[1;32mexcept\u001b[0m \u001b[0mKeyError\u001b[0m\u001b[1;33m:\u001b[0m\u001b[1;33m\u001b[0m\u001b[0m\n",
      "\u001b[1;32mpandas\\_libs\\index.pyx\u001b[0m in \u001b[0;36mpandas._libs.index.IndexEngine.get_loc\u001b[1;34m()\u001b[0m\n",
      "\u001b[1;32mpandas\\_libs\\index.pyx\u001b[0m in \u001b[0;36mpandas._libs.index.IndexEngine.get_loc\u001b[1;34m()\u001b[0m\n",
      "\u001b[1;32mpandas\\_libs\\hashtable_class_helper.pxi\u001b[0m in \u001b[0;36mpandas._libs.hashtable.PyObjectHashTable.get_item\u001b[1;34m()\u001b[0m\n",
      "\u001b[1;32mpandas\\_libs\\hashtable_class_helper.pxi\u001b[0m in \u001b[0;36mpandas._libs.hashtable.PyObjectHashTable.get_item\u001b[1;34m()\u001b[0m\n",
      "\u001b[1;31mKeyError\u001b[0m: 'Area'",
      "\nDuring handling of the above exception, another exception occurred:\n",
      "\u001b[1;31mKeyError\u001b[0m                                  Traceback (most recent call last)",
      "\u001b[1;32m<ipython-input-614-72e2426dc16a>\u001b[0m in \u001b[0;36m<module>\u001b[1;34m()\u001b[0m\n\u001b[0;32m      1\u001b[0m \u001b[1;31m#print(dataset['Firearm Used Flag'].value_counts())\u001b[0m\u001b[1;33m\u001b[0m\u001b[1;33m\u001b[0m\u001b[0m\n\u001b[1;32m----> 2\u001b[1;33m \u001b[0mprint\u001b[0m\u001b[1;33m(\u001b[0m\u001b[0mdataset\u001b[0m\u001b[1;33m[\u001b[0m\u001b[1;34m'Area'\u001b[0m\u001b[1;33m]\u001b[0m\u001b[1;33m.\u001b[0m\u001b[0mvalue_counts\u001b[0m\u001b[1;33m(\u001b[0m\u001b[1;33m)\u001b[0m\u001b[1;33m)\u001b[0m\u001b[1;33m\u001b[0m\u001b[0m\n\u001b[0m",
      "\u001b[1;32mC:\\Program Files (x86)\\Microsoft Visual Studio\\Shared\\Anaconda3_64\\lib\\site-packages\\pandas\\core\\frame.py\u001b[0m in \u001b[0;36m__getitem__\u001b[1;34m(self, key)\u001b[0m\n\u001b[0;32m   1962\u001b[0m             \u001b[1;32mreturn\u001b[0m \u001b[0mself\u001b[0m\u001b[1;33m.\u001b[0m\u001b[0m_getitem_multilevel\u001b[0m\u001b[1;33m(\u001b[0m\u001b[0mkey\u001b[0m\u001b[1;33m)\u001b[0m\u001b[1;33m\u001b[0m\u001b[0m\n\u001b[0;32m   1963\u001b[0m         \u001b[1;32melse\u001b[0m\u001b[1;33m:\u001b[0m\u001b[1;33m\u001b[0m\u001b[0m\n\u001b[1;32m-> 1964\u001b[1;33m             \u001b[1;32mreturn\u001b[0m \u001b[0mself\u001b[0m\u001b[1;33m.\u001b[0m\u001b[0m_getitem_column\u001b[0m\u001b[1;33m(\u001b[0m\u001b[0mkey\u001b[0m\u001b[1;33m)\u001b[0m\u001b[1;33m\u001b[0m\u001b[0m\n\u001b[0m\u001b[0;32m   1965\u001b[0m \u001b[1;33m\u001b[0m\u001b[0m\n\u001b[0;32m   1966\u001b[0m     \u001b[1;32mdef\u001b[0m \u001b[0m_getitem_column\u001b[0m\u001b[1;33m(\u001b[0m\u001b[0mself\u001b[0m\u001b[1;33m,\u001b[0m \u001b[0mkey\u001b[0m\u001b[1;33m)\u001b[0m\u001b[1;33m:\u001b[0m\u001b[1;33m\u001b[0m\u001b[0m\n",
      "\u001b[1;32mC:\\Program Files (x86)\\Microsoft Visual Studio\\Shared\\Anaconda3_64\\lib\\site-packages\\pandas\\core\\frame.py\u001b[0m in \u001b[0;36m_getitem_column\u001b[1;34m(self, key)\u001b[0m\n\u001b[0;32m   1969\u001b[0m         \u001b[1;31m# get column\u001b[0m\u001b[1;33m\u001b[0m\u001b[1;33m\u001b[0m\u001b[0m\n\u001b[0;32m   1970\u001b[0m         \u001b[1;32mif\u001b[0m \u001b[0mself\u001b[0m\u001b[1;33m.\u001b[0m\u001b[0mcolumns\u001b[0m\u001b[1;33m.\u001b[0m\u001b[0mis_unique\u001b[0m\u001b[1;33m:\u001b[0m\u001b[1;33m\u001b[0m\u001b[0m\n\u001b[1;32m-> 1971\u001b[1;33m             \u001b[1;32mreturn\u001b[0m \u001b[0mself\u001b[0m\u001b[1;33m.\u001b[0m\u001b[0m_get_item_cache\u001b[0m\u001b[1;33m(\u001b[0m\u001b[0mkey\u001b[0m\u001b[1;33m)\u001b[0m\u001b[1;33m\u001b[0m\u001b[0m\n\u001b[0m\u001b[0;32m   1972\u001b[0m \u001b[1;33m\u001b[0m\u001b[0m\n\u001b[0;32m   1973\u001b[0m         \u001b[1;31m# duplicate columns & possible reduce dimensionality\u001b[0m\u001b[1;33m\u001b[0m\u001b[1;33m\u001b[0m\u001b[0m\n",
      "\u001b[1;32mC:\\Program Files (x86)\\Microsoft Visual Studio\\Shared\\Anaconda3_64\\lib\\site-packages\\pandas\\core\\generic.py\u001b[0m in \u001b[0;36m_get_item_cache\u001b[1;34m(self, item)\u001b[0m\n\u001b[0;32m   1643\u001b[0m         \u001b[0mres\u001b[0m \u001b[1;33m=\u001b[0m \u001b[0mcache\u001b[0m\u001b[1;33m.\u001b[0m\u001b[0mget\u001b[0m\u001b[1;33m(\u001b[0m\u001b[0mitem\u001b[0m\u001b[1;33m)\u001b[0m\u001b[1;33m\u001b[0m\u001b[0m\n\u001b[0;32m   1644\u001b[0m         \u001b[1;32mif\u001b[0m \u001b[0mres\u001b[0m \u001b[1;32mis\u001b[0m \u001b[1;32mNone\u001b[0m\u001b[1;33m:\u001b[0m\u001b[1;33m\u001b[0m\u001b[0m\n\u001b[1;32m-> 1645\u001b[1;33m             \u001b[0mvalues\u001b[0m \u001b[1;33m=\u001b[0m \u001b[0mself\u001b[0m\u001b[1;33m.\u001b[0m\u001b[0m_data\u001b[0m\u001b[1;33m.\u001b[0m\u001b[0mget\u001b[0m\u001b[1;33m(\u001b[0m\u001b[0mitem\u001b[0m\u001b[1;33m)\u001b[0m\u001b[1;33m\u001b[0m\u001b[0m\n\u001b[0m\u001b[0;32m   1646\u001b[0m             \u001b[0mres\u001b[0m \u001b[1;33m=\u001b[0m \u001b[0mself\u001b[0m\u001b[1;33m.\u001b[0m\u001b[0m_box_item_values\u001b[0m\u001b[1;33m(\u001b[0m\u001b[0mitem\u001b[0m\u001b[1;33m,\u001b[0m \u001b[0mvalues\u001b[0m\u001b[1;33m)\u001b[0m\u001b[1;33m\u001b[0m\u001b[0m\n\u001b[0;32m   1647\u001b[0m             \u001b[0mcache\u001b[0m\u001b[1;33m[\u001b[0m\u001b[0mitem\u001b[0m\u001b[1;33m]\u001b[0m \u001b[1;33m=\u001b[0m \u001b[0mres\u001b[0m\u001b[1;33m\u001b[0m\u001b[0m\n",
      "\u001b[1;32mC:\\Program Files (x86)\\Microsoft Visual Studio\\Shared\\Anaconda3_64\\lib\\site-packages\\pandas\\core\\internals.py\u001b[0m in \u001b[0;36mget\u001b[1;34m(self, item, fastpath)\u001b[0m\n\u001b[0;32m   3588\u001b[0m \u001b[1;33m\u001b[0m\u001b[0m\n\u001b[0;32m   3589\u001b[0m             \u001b[1;32mif\u001b[0m \u001b[1;32mnot\u001b[0m \u001b[0misnull\u001b[0m\u001b[1;33m(\u001b[0m\u001b[0mitem\u001b[0m\u001b[1;33m)\u001b[0m\u001b[1;33m:\u001b[0m\u001b[1;33m\u001b[0m\u001b[0m\n\u001b[1;32m-> 3590\u001b[1;33m                 \u001b[0mloc\u001b[0m \u001b[1;33m=\u001b[0m \u001b[0mself\u001b[0m\u001b[1;33m.\u001b[0m\u001b[0mitems\u001b[0m\u001b[1;33m.\u001b[0m\u001b[0mget_loc\u001b[0m\u001b[1;33m(\u001b[0m\u001b[0mitem\u001b[0m\u001b[1;33m)\u001b[0m\u001b[1;33m\u001b[0m\u001b[0m\n\u001b[0m\u001b[0;32m   3591\u001b[0m             \u001b[1;32melse\u001b[0m\u001b[1;33m:\u001b[0m\u001b[1;33m\u001b[0m\u001b[0m\n\u001b[0;32m   3592\u001b[0m                 \u001b[0mindexer\u001b[0m \u001b[1;33m=\u001b[0m \u001b[0mnp\u001b[0m\u001b[1;33m.\u001b[0m\u001b[0marange\u001b[0m\u001b[1;33m(\u001b[0m\u001b[0mlen\u001b[0m\u001b[1;33m(\u001b[0m\u001b[0mself\u001b[0m\u001b[1;33m.\u001b[0m\u001b[0mitems\u001b[0m\u001b[1;33m)\u001b[0m\u001b[1;33m)\u001b[0m\u001b[1;33m[\u001b[0m\u001b[0misnull\u001b[0m\u001b[1;33m(\u001b[0m\u001b[0mself\u001b[0m\u001b[1;33m.\u001b[0m\u001b[0mitems\u001b[0m\u001b[1;33m)\u001b[0m\u001b[1;33m]\u001b[0m\u001b[1;33m\u001b[0m\u001b[0m\n",
      "\u001b[1;32mC:\\Program Files (x86)\\Microsoft Visual Studio\\Shared\\Anaconda3_64\\lib\\site-packages\\pandas\\core\\indexes\\base.py\u001b[0m in \u001b[0;36mget_loc\u001b[1;34m(self, key, method, tolerance)\u001b[0m\n\u001b[0;32m   2442\u001b[0m                 \u001b[1;32mreturn\u001b[0m \u001b[0mself\u001b[0m\u001b[1;33m.\u001b[0m\u001b[0m_engine\u001b[0m\u001b[1;33m.\u001b[0m\u001b[0mget_loc\u001b[0m\u001b[1;33m(\u001b[0m\u001b[0mkey\u001b[0m\u001b[1;33m)\u001b[0m\u001b[1;33m\u001b[0m\u001b[0m\n\u001b[0;32m   2443\u001b[0m             \u001b[1;32mexcept\u001b[0m \u001b[0mKeyError\u001b[0m\u001b[1;33m:\u001b[0m\u001b[1;33m\u001b[0m\u001b[0m\n\u001b[1;32m-> 2444\u001b[1;33m                 \u001b[1;32mreturn\u001b[0m \u001b[0mself\u001b[0m\u001b[1;33m.\u001b[0m\u001b[0m_engine\u001b[0m\u001b[1;33m.\u001b[0m\u001b[0mget_loc\u001b[0m\u001b[1;33m(\u001b[0m\u001b[0mself\u001b[0m\u001b[1;33m.\u001b[0m\u001b[0m_maybe_cast_indexer\u001b[0m\u001b[1;33m(\u001b[0m\u001b[0mkey\u001b[0m\u001b[1;33m)\u001b[0m\u001b[1;33m)\u001b[0m\u001b[1;33m\u001b[0m\u001b[0m\n\u001b[0m\u001b[0;32m   2445\u001b[0m \u001b[1;33m\u001b[0m\u001b[0m\n\u001b[0;32m   2446\u001b[0m         \u001b[0mindexer\u001b[0m \u001b[1;33m=\u001b[0m \u001b[0mself\u001b[0m\u001b[1;33m.\u001b[0m\u001b[0mget_indexer\u001b[0m\u001b[1;33m(\u001b[0m\u001b[1;33m[\u001b[0m\u001b[0mkey\u001b[0m\u001b[1;33m]\u001b[0m\u001b[1;33m,\u001b[0m \u001b[0mmethod\u001b[0m\u001b[1;33m=\u001b[0m\u001b[0mmethod\u001b[0m\u001b[1;33m,\u001b[0m \u001b[0mtolerance\u001b[0m\u001b[1;33m=\u001b[0m\u001b[0mtolerance\u001b[0m\u001b[1;33m)\u001b[0m\u001b[1;33m\u001b[0m\u001b[0m\n",
      "\u001b[1;32mpandas\\_libs\\index.pyx\u001b[0m in \u001b[0;36mpandas._libs.index.IndexEngine.get_loc\u001b[1;34m()\u001b[0m\n",
      "\u001b[1;32mpandas\\_libs\\index.pyx\u001b[0m in \u001b[0;36mpandas._libs.index.IndexEngine.get_loc\u001b[1;34m()\u001b[0m\n",
      "\u001b[1;32mpandas\\_libs\\hashtable_class_helper.pxi\u001b[0m in \u001b[0;36mpandas._libs.hashtable.PyObjectHashTable.get_item\u001b[1;34m()\u001b[0m\n",
      "\u001b[1;32mpandas\\_libs\\hashtable_class_helper.pxi\u001b[0m in \u001b[0;36mpandas._libs.hashtable.PyObjectHashTable.get_item\u001b[1;34m()\u001b[0m\n",
      "\u001b[1;31mKeyError\u001b[0m: 'Area'"
     ]
    }
   ],
   "source": [
    "#print(dataset['Firearm Used Flag'].value_counts())\n",
    "print(dataset['Area'].value_counts())"
   ]
  },
  {
   "cell_type": "code",
   "execution_count": 703,
   "metadata": {
    "collapsed": true
   },
   "outputs": [],
   "source": [
    "dataset['Firearm Used Flag'] = dataset['Firearm Used Flag'].apply(lambda x: 1 if x == 'N' else 0)"
   ]
  },
  {
   "cell_type": "code",
   "execution_count": 706,
   "metadata": {},
   "outputs": [
    {
     "data": {
      "text/html": [
       "<div>\n",
       "<style>\n",
       "    .dataframe thead tr:only-child th {\n",
       "        text-align: right;\n",
       "    }\n",
       "\n",
       "    .dataframe thead th {\n",
       "        text-align: left;\n",
       "    }\n",
       "\n",
       "    .dataframe tbody tr th {\n",
       "        vertical-align: top;\n",
       "    }\n",
       "</style>\n",
       "<table border=\"1\" class=\"dataframe\">\n",
       "  <thead>\n",
       "    <tr style=\"text-align: right;\">\n",
       "      <th></th>\n",
       "      <th>Zip Code</th>\n",
       "      <th>Firearm Used Flag</th>\n",
       "    </tr>\n",
       "  </thead>\n",
       "  <tbody>\n",
       "    <tr>\n",
       "      <th>0</th>\n",
       "      <td>64113</td>\n",
       "      <td>0</td>\n",
       "    </tr>\n",
       "    <tr>\n",
       "      <th>1</th>\n",
       "      <td>64127</td>\n",
       "      <td>0</td>\n",
       "    </tr>\n",
       "    <tr>\n",
       "      <th>2</th>\n",
       "      <td>64152</td>\n",
       "      <td>0</td>\n",
       "    </tr>\n",
       "    <tr>\n",
       "      <th>3</th>\n",
       "      <td>64106</td>\n",
       "      <td>0</td>\n",
       "    </tr>\n",
       "    <tr>\n",
       "      <th>4</th>\n",
       "      <td>64127</td>\n",
       "      <td>0</td>\n",
       "    </tr>\n",
       "  </tbody>\n",
       "</table>\n",
       "</div>"
      ],
      "text/plain": [
       "   Zip Code  Firearm Used Flag\n",
       "0     64113                  0\n",
       "1     64127                  0\n",
       "2     64152                  0\n",
       "3     64106                  0\n",
       "4     64127                  0"
      ]
     },
     "execution_count": 706,
     "metadata": {},
     "output_type": "execute_result"
    }
   ],
   "source": [
    "dataset.head()"
   ]
  },
  {
   "cell_type": "code",
   "execution_count": 705,
   "metadata": {},
   "outputs": [
    {
     "ename": "ValueError",
     "evalue": "labels ['Description' 'Age'] not contained in axis",
     "output_type": "error",
     "traceback": [
      "\u001b[1;31m---------------------------------------------------------------------------\u001b[0m",
      "\u001b[1;31mValueError\u001b[0m                                Traceback (most recent call last)",
      "\u001b[1;32m<ipython-input-705-c5474d2d2700>\u001b[0m in \u001b[0;36m<module>\u001b[1;34m()\u001b[0m\n\u001b[0;32m      3\u001b[0m \u001b[1;33m\u001b[0m\u001b[0m\n\u001b[0;32m      4\u001b[0m X1=dataset.drop(['Description', 'Age'\n\u001b[1;32m----> 5\u001b[1;33m ], axis=1, inplace=True)\n\u001b[0m",
      "\u001b[1;32mC:\\Program Files (x86)\\Microsoft Visual Studio\\Shared\\Anaconda3_64\\lib\\site-packages\\pandas\\core\\generic.py\u001b[0m in \u001b[0;36mdrop\u001b[1;34m(self, labels, axis, level, inplace, errors)\u001b[0m\n\u001b[0;32m   2159\u001b[0m                 \u001b[0mnew_axis\u001b[0m \u001b[1;33m=\u001b[0m \u001b[0maxis\u001b[0m\u001b[1;33m.\u001b[0m\u001b[0mdrop\u001b[0m\u001b[1;33m(\u001b[0m\u001b[0mlabels\u001b[0m\u001b[1;33m,\u001b[0m \u001b[0mlevel\u001b[0m\u001b[1;33m=\u001b[0m\u001b[0mlevel\u001b[0m\u001b[1;33m,\u001b[0m \u001b[0merrors\u001b[0m\u001b[1;33m=\u001b[0m\u001b[0merrors\u001b[0m\u001b[1;33m)\u001b[0m\u001b[1;33m\u001b[0m\u001b[0m\n\u001b[0;32m   2160\u001b[0m             \u001b[1;32melse\u001b[0m\u001b[1;33m:\u001b[0m\u001b[1;33m\u001b[0m\u001b[0m\n\u001b[1;32m-> 2161\u001b[1;33m                 \u001b[0mnew_axis\u001b[0m \u001b[1;33m=\u001b[0m \u001b[0maxis\u001b[0m\u001b[1;33m.\u001b[0m\u001b[0mdrop\u001b[0m\u001b[1;33m(\u001b[0m\u001b[0mlabels\u001b[0m\u001b[1;33m,\u001b[0m \u001b[0merrors\u001b[0m\u001b[1;33m=\u001b[0m\u001b[0merrors\u001b[0m\u001b[1;33m)\u001b[0m\u001b[1;33m\u001b[0m\u001b[0m\n\u001b[0m\u001b[0;32m   2162\u001b[0m             \u001b[0mdropped\u001b[0m \u001b[1;33m=\u001b[0m \u001b[0mself\u001b[0m\u001b[1;33m.\u001b[0m\u001b[0mreindex\u001b[0m\u001b[1;33m(\u001b[0m\u001b[1;33m**\u001b[0m\u001b[1;33m{\u001b[0m\u001b[0maxis_name\u001b[0m\u001b[1;33m:\u001b[0m \u001b[0mnew_axis\u001b[0m\u001b[1;33m}\u001b[0m\u001b[1;33m)\u001b[0m\u001b[1;33m\u001b[0m\u001b[0m\n\u001b[0;32m   2163\u001b[0m             \u001b[1;32mtry\u001b[0m\u001b[1;33m:\u001b[0m\u001b[1;33m\u001b[0m\u001b[0m\n",
      "\u001b[1;32mC:\\Program Files (x86)\\Microsoft Visual Studio\\Shared\\Anaconda3_64\\lib\\site-packages\\pandas\\core\\indexes\\base.py\u001b[0m in \u001b[0;36mdrop\u001b[1;34m(self, labels, errors)\u001b[0m\n\u001b[0;32m   3622\u001b[0m             \u001b[1;32mif\u001b[0m \u001b[0merrors\u001b[0m \u001b[1;33m!=\u001b[0m \u001b[1;34m'ignore'\u001b[0m\u001b[1;33m:\u001b[0m\u001b[1;33m\u001b[0m\u001b[0m\n\u001b[0;32m   3623\u001b[0m                 raise ValueError('labels %s not contained in axis' %\n\u001b[1;32m-> 3624\u001b[1;33m                                  labels[mask])\n\u001b[0m\u001b[0;32m   3625\u001b[0m             \u001b[0mindexer\u001b[0m \u001b[1;33m=\u001b[0m \u001b[0mindexer\u001b[0m\u001b[1;33m[\u001b[0m\u001b[1;33m~\u001b[0m\u001b[0mmask\u001b[0m\u001b[1;33m]\u001b[0m\u001b[1;33m\u001b[0m\u001b[0m\n\u001b[0;32m   3626\u001b[0m         \u001b[1;32mreturn\u001b[0m \u001b[0mself\u001b[0m\u001b[1;33m.\u001b[0m\u001b[0mdelete\u001b[0m\u001b[1;33m(\u001b[0m\u001b[0mindexer\u001b[0m\u001b[1;33m)\u001b[0m\u001b[1;33m\u001b[0m\u001b[0m\n",
      "\u001b[1;31mValueError\u001b[0m: labels ['Description' 'Age'] not contained in axis"
     ]
    }
   ],
   "source": [
    "X1=dataset.drop(['Sex','Age'\n",
    "], axis=1, inplace=True)\n",
    "\n",
    "X1=dataset.drop(['Description', 'Age'\n",
    "], axis=1, inplace=True)"
   ]
  },
  {
   "cell_type": "code",
   "execution_count": 572,
   "metadata": {},
   "outputs": [
    {
     "name": "stdout",
     "output_type": "stream",
     "text": [
      "Property Damage         12206\n",
      "Stealing From Auto       9511\n",
      "Auto Theft               9461\n",
      "Non Agg Assault Dome     9029\n",
      "Burglary - Residence     8391\n",
      "Aggravated Assault (     7132\n",
      "Non Aggravated Assau     6547\n",
      "Stealing Shoplifting     5968\n",
      "Possession/Sale/Dist     5419\n",
      "Stealing from Buildi     5060\n",
      "Stealing All Other       4762\n",
      "Misc Violation           4359\n",
      "Armed Robbery            4291\n",
      "Stealing Auto Parts/     4064\n",
      "Trespassing              3461\n",
      "Agg Assault - Domest     3062\n",
      "Burglary - Non Resid     2341\n",
      "Strong Arm Robbery       2020\n",
      "Resisting an Officer     1895\n",
      "Fraud/Confidence Gam     1707\n",
      "Possession of Drug E     1667\n",
      "Intimidation             1644\n",
      "Disorderly Conduct       1557\n",
      "Identity Theft           1366\n",
      "Weapons Law Violatio     1192\n",
      "Credit/Debit/ATM Car     1171\n",
      "Driving Under Influe      989\n",
      "Auto Theft Outside S      944\n",
      "Violation Full Order      762\n",
      "Stolen Property OFFE      712\n",
      "                        ...  \n",
      "Human Trafficking/Co        6\n",
      "Family Disturbance          5\n",
      "Animal Cruelty              4\n",
      "property damage             4\n",
      "Welfare Fraud               4\n",
      "Sexual Assault with         4\n",
      "Attempt Suicide by J        4\n",
      "robbery                     3\n",
      "Stealing from uildi         3\n",
      "Peeping Tom                 3\n",
      "fraud                       3\n",
      "Suicide by Other Mea        3\n",
      "Vagrancy                    2\n",
      "Misc Viol(2601)             2\n",
      "Suicide By Shooting         2\n",
      "strong armed robbery        2\n",
      "1                           2\n",
      "Sex Off Incest              2\n",
      "4                           2\n",
      "Suicide By Hanging          2\n",
      "Stealing Acc                2\n",
      "s                           2\n",
      "5                           2\n",
      "Invasion of Privacy         2\n",
      "broken window               2\n",
      "MISSING PERSON              1\n",
      "counterfeiting              1\n",
      "auto theft                  1\n",
      "Suicide By Cutting          1\n",
      "Attempt Suicide by G        1\n",
      "Name: Description, Length: 116, dtype: int64\n"
     ]
    }
   ],
   "source": [
    "print(dataset['Description'].value_counts())"
   ]
  },
  {
   "cell_type": "code",
   "execution_count": 430,
   "metadata": {},
   "outputs": [
    {
     "data": {
      "text/html": [
       "<div>\n",
       "<style>\n",
       "    .dataframe thead tr:only-child th {\n",
       "        text-align: right;\n",
       "    }\n",
       "\n",
       "    .dataframe thead th {\n",
       "        text-align: left;\n",
       "    }\n",
       "\n",
       "    .dataframe tbody tr th {\n",
       "        vertical-align: top;\n",
       "    }\n",
       "</style>\n",
       "<table border=\"1\" class=\"dataframe\">\n",
       "  <thead>\n",
       "    <tr style=\"text-align: right;\">\n",
       "      <th></th>\n",
       "      <th>Offense</th>\n",
       "      <th>Description</th>\n",
       "      <th>Zip Code</th>\n",
       "      <th>Firearm Used Flag</th>\n",
       "    </tr>\n",
       "  </thead>\n",
       "  <tbody>\n",
       "    <tr>\n",
       "      <th>0</th>\n",
       "      <td>690</td>\n",
       "      <td>Stealing All Other</td>\n",
       "      <td>64113</td>\n",
       "      <td>1</td>\n",
       "    </tr>\n",
       "    <tr>\n",
       "      <th>1</th>\n",
       "      <td>630</td>\n",
       "      <td>Stealing Shoplifting</td>\n",
       "      <td>64127</td>\n",
       "      <td>1</td>\n",
       "    </tr>\n",
       "    <tr>\n",
       "      <th>2</th>\n",
       "      <td>1850</td>\n",
       "      <td>Possession of Drug E</td>\n",
       "      <td>64152</td>\n",
       "      <td>1</td>\n",
       "    </tr>\n",
       "    <tr>\n",
       "      <th>3</th>\n",
       "      <td>1849</td>\n",
       "      <td>Possession/Sale/Dist</td>\n",
       "      <td>64106</td>\n",
       "      <td>1</td>\n",
       "    </tr>\n",
       "    <tr>\n",
       "      <th>4</th>\n",
       "      <td>670</td>\n",
       "      <td>Stealing from Buildi</td>\n",
       "      <td>64127</td>\n",
       "      <td>1</td>\n",
       "    </tr>\n",
       "  </tbody>\n",
       "</table>\n",
       "</div>"
      ],
      "text/plain": [
       "   Offense           Description  Zip Code  Firearm Used Flag\n",
       "0      690    Stealing All Other     64113                  1\n",
       "1      630  Stealing Shoplifting     64127                  1\n",
       "2     1850  Possession of Drug E     64152                  1\n",
       "3     1849  Possession/Sale/Dist     64106                  1\n",
       "4      670  Stealing from Buildi     64127                  1"
      ]
     },
     "execution_count": 430,
     "metadata": {},
     "output_type": "execute_result"
    }
   ],
   "source": [
    "dataset.head()"
   ]
  },
  {
   "cell_type": "code",
   "execution_count": 573,
   "metadata": {
    "collapsed": true
   },
   "outputs": [],
   "source": [
    "#X1 = dataset[.iloc[:, 2:6]]\n",
    "###dataset.drop(['Area'\n",
    "#], axis=1, inplace=True)\n"
   ]
  },
  {
   "cell_type": "code",
   "execution_count": 574,
   "metadata": {
    "collapsed": true
   },
   "outputs": [],
   "source": [
    "X1 = dataset.iloc[:, 2:4]\n",
    "y1 = dataset.iloc[:, 1].values"
   ]
  },
  {
   "cell_type": "code",
   "execution_count": 578,
   "metadata": {},
   "outputs": [
    {
     "data": {
      "text/html": [
       "<div>\n",
       "<style>\n",
       "    .dataframe thead tr:only-child th {\n",
       "        text-align: right;\n",
       "    }\n",
       "\n",
       "    .dataframe thead th {\n",
       "        text-align: left;\n",
       "    }\n",
       "\n",
       "    .dataframe tbody tr th {\n",
       "        vertical-align: top;\n",
       "    }\n",
       "</style>\n",
       "<table border=\"1\" class=\"dataframe\">\n",
       "  <thead>\n",
       "    <tr style=\"text-align: right;\">\n",
       "      <th></th>\n",
       "      <th>Zip Code</th>\n",
       "      <th>Firearm Used Flag</th>\n",
       "    </tr>\n",
       "  </thead>\n",
       "  <tbody>\n",
       "    <tr>\n",
       "      <th>0</th>\n",
       "      <td>64113</td>\n",
       "      <td>1</td>\n",
       "    </tr>\n",
       "    <tr>\n",
       "      <th>1</th>\n",
       "      <td>64127</td>\n",
       "      <td>1</td>\n",
       "    </tr>\n",
       "    <tr>\n",
       "      <th>2</th>\n",
       "      <td>64152</td>\n",
       "      <td>1</td>\n",
       "    </tr>\n",
       "    <tr>\n",
       "      <th>3</th>\n",
       "      <td>64106</td>\n",
       "      <td>1</td>\n",
       "    </tr>\n",
       "    <tr>\n",
       "      <th>4</th>\n",
       "      <td>64127</td>\n",
       "      <td>1</td>\n",
       "    </tr>\n",
       "    <tr>\n",
       "      <th>5</th>\n",
       "      <td>64116</td>\n",
       "      <td>1</td>\n",
       "    </tr>\n",
       "    <tr>\n",
       "      <th>6</th>\n",
       "      <td>64106</td>\n",
       "      <td>1</td>\n",
       "    </tr>\n",
       "    <tr>\n",
       "      <th>7</th>\n",
       "      <td>64132</td>\n",
       "      <td>1</td>\n",
       "    </tr>\n",
       "    <tr>\n",
       "      <th>8</th>\n",
       "      <td>64127</td>\n",
       "      <td>1</td>\n",
       "    </tr>\n",
       "    <tr>\n",
       "      <th>9</th>\n",
       "      <td>64105</td>\n",
       "      <td>1</td>\n",
       "    </tr>\n",
       "    <tr>\n",
       "      <th>10</th>\n",
       "      <td>64133</td>\n",
       "      <td>1</td>\n",
       "    </tr>\n",
       "    <tr>\n",
       "      <th>11</th>\n",
       "      <td>64134</td>\n",
       "      <td>1</td>\n",
       "    </tr>\n",
       "    <tr>\n",
       "      <th>12</th>\n",
       "      <td>64109</td>\n",
       "      <td>0</td>\n",
       "    </tr>\n",
       "    <tr>\n",
       "      <th>13</th>\n",
       "      <td>64130</td>\n",
       "      <td>1</td>\n",
       "    </tr>\n",
       "    <tr>\n",
       "      <th>14</th>\n",
       "      <td>64111</td>\n",
       "      <td>1</td>\n",
       "    </tr>\n",
       "    <tr>\n",
       "      <th>15</th>\n",
       "      <td>64111</td>\n",
       "      <td>1</td>\n",
       "    </tr>\n",
       "    <tr>\n",
       "      <th>16</th>\n",
       "      <td>64128</td>\n",
       "      <td>1</td>\n",
       "    </tr>\n",
       "    <tr>\n",
       "      <th>17</th>\n",
       "      <td>64118</td>\n",
       "      <td>1</td>\n",
       "    </tr>\n",
       "    <tr>\n",
       "      <th>18</th>\n",
       "      <td>64132</td>\n",
       "      <td>1</td>\n",
       "    </tr>\n",
       "    <tr>\n",
       "      <th>19</th>\n",
       "      <td>64129</td>\n",
       "      <td>1</td>\n",
       "    </tr>\n",
       "    <tr>\n",
       "      <th>20</th>\n",
       "      <td>64145</td>\n",
       "      <td>1</td>\n",
       "    </tr>\n",
       "    <tr>\n",
       "      <th>21</th>\n",
       "      <td>99999</td>\n",
       "      <td>1</td>\n",
       "    </tr>\n",
       "    <tr>\n",
       "      <th>22</th>\n",
       "      <td>64155</td>\n",
       "      <td>1</td>\n",
       "    </tr>\n",
       "    <tr>\n",
       "      <th>23</th>\n",
       "      <td>64114</td>\n",
       "      <td>1</td>\n",
       "    </tr>\n",
       "    <tr>\n",
       "      <th>24</th>\n",
       "      <td>64132</td>\n",
       "      <td>0</td>\n",
       "    </tr>\n",
       "    <tr>\n",
       "      <th>25</th>\n",
       "      <td>64130</td>\n",
       "      <td>1</td>\n",
       "    </tr>\n",
       "    <tr>\n",
       "      <th>26</th>\n",
       "      <td>64123</td>\n",
       "      <td>1</td>\n",
       "    </tr>\n",
       "    <tr>\n",
       "      <th>27</th>\n",
       "      <td>64108</td>\n",
       "      <td>1</td>\n",
       "    </tr>\n",
       "    <tr>\n",
       "      <th>28</th>\n",
       "      <td>64155</td>\n",
       "      <td>1</td>\n",
       "    </tr>\n",
       "    <tr>\n",
       "      <th>29</th>\n",
       "      <td>64117</td>\n",
       "      <td>1</td>\n",
       "    </tr>\n",
       "    <tr>\n",
       "      <th>...</th>\n",
       "      <td>...</td>\n",
       "      <td>...</td>\n",
       "    </tr>\n",
       "    <tr>\n",
       "      <th>132109</th>\n",
       "      <td>64109</td>\n",
       "      <td>1</td>\n",
       "    </tr>\n",
       "    <tr>\n",
       "      <th>132110</th>\n",
       "      <td>64137</td>\n",
       "      <td>1</td>\n",
       "    </tr>\n",
       "    <tr>\n",
       "      <th>132111</th>\n",
       "      <td>64124</td>\n",
       "      <td>1</td>\n",
       "    </tr>\n",
       "    <tr>\n",
       "      <th>132112</th>\n",
       "      <td>64151</td>\n",
       "      <td>0</td>\n",
       "    </tr>\n",
       "    <tr>\n",
       "      <th>132113</th>\n",
       "      <td>64155</td>\n",
       "      <td>1</td>\n",
       "    </tr>\n",
       "    <tr>\n",
       "      <th>132114</th>\n",
       "      <td>64127</td>\n",
       "      <td>1</td>\n",
       "    </tr>\n",
       "    <tr>\n",
       "      <th>132115</th>\n",
       "      <td>64155</td>\n",
       "      <td>1</td>\n",
       "    </tr>\n",
       "    <tr>\n",
       "      <th>132116</th>\n",
       "      <td>64128</td>\n",
       "      <td>1</td>\n",
       "    </tr>\n",
       "    <tr>\n",
       "      <th>132117</th>\n",
       "      <td>64111</td>\n",
       "      <td>1</td>\n",
       "    </tr>\n",
       "    <tr>\n",
       "      <th>132118</th>\n",
       "      <td>64128</td>\n",
       "      <td>1</td>\n",
       "    </tr>\n",
       "    <tr>\n",
       "      <th>132119</th>\n",
       "      <td>64145</td>\n",
       "      <td>1</td>\n",
       "    </tr>\n",
       "    <tr>\n",
       "      <th>132120</th>\n",
       "      <td>64127</td>\n",
       "      <td>1</td>\n",
       "    </tr>\n",
       "    <tr>\n",
       "      <th>132121</th>\n",
       "      <td>64123</td>\n",
       "      <td>1</td>\n",
       "    </tr>\n",
       "    <tr>\n",
       "      <th>132122</th>\n",
       "      <td>64123</td>\n",
       "      <td>1</td>\n",
       "    </tr>\n",
       "    <tr>\n",
       "      <th>132123</th>\n",
       "      <td>64154</td>\n",
       "      <td>1</td>\n",
       "    </tr>\n",
       "    <tr>\n",
       "      <th>132124</th>\n",
       "      <td>64130</td>\n",
       "      <td>1</td>\n",
       "    </tr>\n",
       "    <tr>\n",
       "      <th>132125</th>\n",
       "      <td>64124</td>\n",
       "      <td>1</td>\n",
       "    </tr>\n",
       "    <tr>\n",
       "      <th>132126</th>\n",
       "      <td>64138</td>\n",
       "      <td>0</td>\n",
       "    </tr>\n",
       "    <tr>\n",
       "      <th>132127</th>\n",
       "      <td>64123</td>\n",
       "      <td>1</td>\n",
       "    </tr>\n",
       "    <tr>\n",
       "      <th>132128</th>\n",
       "      <td>64124</td>\n",
       "      <td>1</td>\n",
       "    </tr>\n",
       "    <tr>\n",
       "      <th>132129</th>\n",
       "      <td>64155</td>\n",
       "      <td>1</td>\n",
       "    </tr>\n",
       "    <tr>\n",
       "      <th>132130</th>\n",
       "      <td>64125</td>\n",
       "      <td>1</td>\n",
       "    </tr>\n",
       "    <tr>\n",
       "      <th>132131</th>\n",
       "      <td>64128</td>\n",
       "      <td>1</td>\n",
       "    </tr>\n",
       "    <tr>\n",
       "      <th>132132</th>\n",
       "      <td>64133</td>\n",
       "      <td>1</td>\n",
       "    </tr>\n",
       "    <tr>\n",
       "      <th>132133</th>\n",
       "      <td>64117</td>\n",
       "      <td>1</td>\n",
       "    </tr>\n",
       "    <tr>\n",
       "      <th>132134</th>\n",
       "      <td>64138</td>\n",
       "      <td>1</td>\n",
       "    </tr>\n",
       "    <tr>\n",
       "      <th>132135</th>\n",
       "      <td>64108</td>\n",
       "      <td>1</td>\n",
       "    </tr>\n",
       "    <tr>\n",
       "      <th>132136</th>\n",
       "      <td>64133</td>\n",
       "      <td>1</td>\n",
       "    </tr>\n",
       "    <tr>\n",
       "      <th>132137</th>\n",
       "      <td>64127</td>\n",
       "      <td>1</td>\n",
       "    </tr>\n",
       "    <tr>\n",
       "      <th>132138</th>\n",
       "      <td>64145</td>\n",
       "      <td>1</td>\n",
       "    </tr>\n",
       "  </tbody>\n",
       "</table>\n",
       "<p>132139 rows × 2 columns</p>\n",
       "</div>"
      ],
      "text/plain": [
       "        Zip Code  Firearm Used Flag\n",
       "0          64113                  1\n",
       "1          64127                  1\n",
       "2          64152                  1\n",
       "3          64106                  1\n",
       "4          64127                  1\n",
       "5          64116                  1\n",
       "6          64106                  1\n",
       "7          64132                  1\n",
       "8          64127                  1\n",
       "9          64105                  1\n",
       "10         64133                  1\n",
       "11         64134                  1\n",
       "12         64109                  0\n",
       "13         64130                  1\n",
       "14         64111                  1\n",
       "15         64111                  1\n",
       "16         64128                  1\n",
       "17         64118                  1\n",
       "18         64132                  1\n",
       "19         64129                  1\n",
       "20         64145                  1\n",
       "21         99999                  1\n",
       "22         64155                  1\n",
       "23         64114                  1\n",
       "24         64132                  0\n",
       "25         64130                  1\n",
       "26         64123                  1\n",
       "27         64108                  1\n",
       "28         64155                  1\n",
       "29         64117                  1\n",
       "...          ...                ...\n",
       "132109     64109                  1\n",
       "132110     64137                  1\n",
       "132111     64124                  1\n",
       "132112     64151                  0\n",
       "132113     64155                  1\n",
       "132114     64127                  1\n",
       "132115     64155                  1\n",
       "132116     64128                  1\n",
       "132117     64111                  1\n",
       "132118     64128                  1\n",
       "132119     64145                  1\n",
       "132120     64127                  1\n",
       "132121     64123                  1\n",
       "132122     64123                  1\n",
       "132123     64154                  1\n",
       "132124     64130                  1\n",
       "132125     64124                  1\n",
       "132126     64138                  0\n",
       "132127     64123                  1\n",
       "132128     64124                  1\n",
       "132129     64155                  1\n",
       "132130     64125                  1\n",
       "132131     64128                  1\n",
       "132132     64133                  1\n",
       "132133     64117                  1\n",
       "132134     64138                  1\n",
       "132135     64108                  1\n",
       "132136     64133                  1\n",
       "132137     64127                  1\n",
       "132138     64145                  1\n",
       "\n",
       "[132139 rows x 2 columns]"
      ]
     },
     "execution_count": 578,
     "metadata": {},
     "output_type": "execute_result"
    }
   ],
   "source": [
    "X1"
   ]
  },
  {
   "cell_type": "code",
   "execution_count": null,
   "metadata": {
    "collapsed": true
   },
   "outputs": [],
   "source": []
  },
  {
   "cell_type": "code",
   "execution_count": 485,
   "metadata": {
    "collapsed": true
   },
   "outputs": [],
   "source": [
    "#y1 = (y1=='Stealing All Other')"
   ]
  },
  {
   "cell_type": "code",
   "execution_count": 486,
   "metadata": {},
   "outputs": [
    {
     "data": {
      "text/plain": [
       "array(['Stealing All Other', 'Stealing Shoplifting',\n",
       "       'Possession of Drug E', ..., 'Stealing Shoplifting',\n",
       "       'Agg Assault - Domest', 'Stealing Shoplifting'], dtype=object)"
      ]
     },
     "execution_count": 486,
     "metadata": {},
     "output_type": "execute_result"
    }
   ],
   "source": [
    "y1[:]\n"
   ]
  },
  {
   "cell_type": "code",
   "execution_count": 580,
   "metadata": {},
   "outputs": [
    {
     "data": {
      "text/plain": [
       "LogisticRegression(C=1.0, class_weight=None, dual=False, fit_intercept=True,\n",
       "          intercept_scaling=1, max_iter=100, multi_class='ovr', n_jobs=1,\n",
       "          penalty='l2', random_state=None, solver='liblinear', tol=0.0001,\n",
       "          verbose=0, warm_start=False)"
      ]
     },
     "execution_count": 580,
     "metadata": {},
     "output_type": "execute_result"
    }
   ],
   "source": [
    "from sklearn.model_selection import train_test_split\n",
    "X1_train, X1_test, y1_train, y1_test = train_test_split(X1, y1, test_size=.2, random_state=42)\n",
    "from sklearn.linear_model import LogisticRegression\n",
    "lr_model = LogisticRegression()\n",
    "lr_model.fit(X1_train, y1_train)"
   ]
  },
  {
   "cell_type": "code",
   "execution_count": 581,
   "metadata": {},
   "outputs": [
    {
     "data": {
      "text/plain": [
       "(array([[ -1.69386282e-04,  -2.37018107e-09],\n",
       "        [ -1.80302247e-04,  -2.53533764e-09],\n",
       "        [ -1.69390204e-04,  -2.37004313e-09],\n",
       "        [ -5.80224438e-05,  -9.48066526e-10],\n",
       "        [ -8.14853887e-05,  -1.77993106e-09],\n",
       "        [ -1.52156929e-04,  -2.24899991e-09],\n",
       "        [ -4.41849441e-05,  -1.07853330e-09],\n",
       "        [ -1.63016423e-04,  -2.26772504e-09],\n",
       "        [ -5.24116604e-05,  -3.24576338e-05],\n",
       "        [ -8.65279946e-05,  -1.18192929e-09],\n",
       "        [ -1.47654269e-04,  -2.03957447e-09],\n",
       "        [ -1.31146303e-04,  -1.79756824e-09],\n",
       "        [ -1.47655824e-04,  -2.03950983e-09],\n",
       "        [ -1.58510182e-04,  -2.21175081e-09],\n",
       "        [ -1.31840151e-04,  -1.80851536e-09],\n",
       "        [ -1.47423599e-04,  -2.16017606e-09],\n",
       "        [ -1.12455615e-04,  -1.55370803e-09],\n",
       "        [ -3.96474203e-05,  -4.88071530e-10],\n",
       "        [ -7.57812880e-05,  -1.03414716e-09],\n",
       "        [ -1.09876280e-04,  -1.52634583e-09],\n",
       "        [ -6.19135607e-05,  -8.20734554e-10],\n",
       "        [ -4.15356108e-05,  -5.19438960e-10],\n",
       "        [ -1.44163539e-04,  -2.00247380e-09],\n",
       "        [ -9.34425154e-05,  -1.26902889e-09],\n",
       "        [ -7.31568479e-05,  -9.78098511e-10],\n",
       "        [ -1.22273727e-04,  -1.78841868e-09],\n",
       "        [ -1.14523385e-04,  -1.57934309e-09],\n",
       "        [ -6.84598538e-05,  -9.08044084e-10],\n",
       "        [ -7.58951668e-05,  -1.02917876e-09],\n",
       "        [ -1.25989590e-04,  -1.73561596e-09],\n",
       "        [ -8.49447259e-05,  -1.15053314e-09],\n",
       "        [ -1.38903040e-04,  -1.91965062e-09],\n",
       "        [ -1.21372795e-04,  -1.66337954e-09],\n",
       "        [ -1.37826991e-04,  -1.90259352e-09],\n",
       "        [ -9.41571502e-05,  -1.28187447e-09],\n",
       "        [ -1.58505600e-04,  -2.21189138e-09],\n",
       "        [ -8.42182535e-05,  -1.12876098e-09],\n",
       "        [ -1.38902414e-04,  -1.91967243e-09],\n",
       "        [ -9.03373959e-05,  -1.28399652e-09],\n",
       "        [ -8.75001427e-05,  -1.19570970e-09],\n",
       "        [ -8.95893403e-05,  -1.21800836e-09],\n",
       "        [ -6.71229101e-05,  -9.02242182e-10],\n",
       "        [ -9.41691338e-05,  -1.95501487e-09],\n",
       "        [ -1.23483447e-04,  -1.70826703e-09],\n",
       "        [ -1.41313555e-04,  -1.95756295e-09],\n",
       "        [ -1.55017374e-04,  -2.15609088e-09],\n",
       "        [ -7.07327321e-05,  -9.38647147e-10],\n",
       "        [ -1.14189760e-04,  -1.56609080e-09],\n",
       "        [ -1.05316485e-04,  -1.44694188e-09],\n",
       "        [ -6.74052472e-05,  -8.88432146e-10],\n",
       "        [ -1.69391430e-04,  -2.37000001e-09],\n",
       "        [ -1.37701445e-04,  -2.70958533e-09],\n",
       "        [ -9.82512378e-05,  -3.50008151e-05],\n",
       "        [ -9.36292644e-05,  -1.27181294e-09],\n",
       "        [ -1.25931432e-04,  -1.76079289e-09],\n",
       "        [ -1.80306925e-04,  -2.53515306e-09],\n",
       "        [ -5.16837486e-05,  -6.93061355e-10],\n",
       "        [ -1.49744782e-04,  -2.07265445e-09],\n",
       "        [ -4.03556282e-05,  -5.01856840e-10],\n",
       "        [ -4.54965017e-05,  -5.85786255e-10],\n",
       "        [ -1.40061968e-04,  -1.93786998e-09],\n",
       "        [ -1.69384567e-04,  -2.37024140e-09],\n",
       "        [ -1.22614975e-04,  -1.81808895e-09],\n",
       "        [ -6.72545794e-05,  -9.01198717e-10],\n",
       "        [ -4.79695384e-05,  -6.50330391e-10],\n",
       "        [ -1.34129039e-04,  -1.84460883e-09],\n",
       "        [ -3.52300269e-05,  -4.39480906e-10],\n",
       "        [ -1.03785679e-04,  -1.47574916e-09],\n",
       "        [ -1.01863392e-04,  -1.40097777e-09],\n",
       "        [ -8.12905161e-05,  -1.14319505e-09],\n",
       "        [ -6.54375260e-05,  -8.74886996e-10],\n",
       "        [ -1.33486589e-04,  -1.95804952e-09],\n",
       "        [ -8.99472140e-05,  -1.23806314e-09],\n",
       "        [ -1.69379422e-04,  -2.37042233e-09],\n",
       "        [ -1.12366287e-04,  -1.54699865e-09],\n",
       "        [ -1.06960516e-04,  -1.47372429e-09],\n",
       "        [ -1.04821342e-04,  -1.43127925e-09],\n",
       "        [ -1.06162157e-04,  -1.47263856e-09],\n",
       "        [ -1.63019603e-04,  -2.26759282e-09],\n",
       "        [ -1.31840683e-04,  -1.80849310e-09],\n",
       "        [ -1.13127194e-04,  -1.59152934e-09],\n",
       "        [ -1.80304463e-04,  -2.53525022e-09],\n",
       "        [ -5.07533473e-05,  -6.65581753e-10],\n",
       "        [ -5.33504885e-05,  -6.85949908e-10],\n",
       "        [ -1.05465929e-04,  -1.44145471e-09],\n",
       "        [ -1.24146626e-04,  -1.70689865e-09],\n",
       "        [ -3.94132616e-05,  -4.85825930e-10],\n",
       "        [ -1.04738290e-04,  -1.44108605e-09],\n",
       "        [ -1.10734641e-04,  -1.51618135e-09],\n",
       "        [ -4.70875488e-05,  -6.09068308e-10],\n",
       "        [ -4.98019117e-05,  -6.47837017e-10],\n",
       "        [ -1.69386037e-04,  -2.37018969e-09],\n",
       "        [ -8.02405936e-05,  -1.09983135e-09],\n",
       "        [ -6.41223451e-05,  -8.80413686e-10],\n",
       "        [ -1.80301509e-04,  -2.53536678e-09],\n",
       "        [ -1.69389837e-04,  -2.37005606e-09],\n",
       "        [ -1.45813751e-04,  -2.01029205e-09],\n",
       "        [ -1.60338551e-04,  -2.37326396e-09],\n",
       "        [ -5.56819487e-05,  -7.23731595e-10],\n",
       "        [ -1.69390940e-04,  -2.37001726e-09],\n",
       "        [ -8.80329600e-05,  -1.19145151e-09],\n",
       "        [ -8.02854285e-05,  -1.08246022e-09],\n",
       "        [ -7.30303814e-05,  -1.75206960e-09],\n",
       "        [ -1.58507861e-04,  -2.21182204e-09],\n",
       "        [ -9.07174922e-05,  -1.22594882e-09],\n",
       "        [ -1.80304463e-04,  -2.53525022e-09],\n",
       "        [ -1.80302247e-04,  -2.53533764e-09],\n",
       "        [ -1.80306186e-04,  -2.53518221e-09],\n",
       "        [ -1.63018135e-04,  -2.26765385e-09],\n",
       "        [ -1.58505417e-04,  -2.21189700e-09],\n",
       "        [ -1.63018130e-04,  -3.52543036e-05],\n",
       "        [ -1.69388488e-04,  -2.37010348e-09]]),\n",
       " array([ -2.65309239e-09,  -2.83837526e-09,  -2.65295445e-09,\n",
       "         -9.02460772e-10,  -1.26538017e-09,  -2.37371053e-09,\n",
       "         -6.87380738e-10,  -2.55061840e-09,  -5.00950054e-07,\n",
       "         -1.36455085e-09,  -2.30231089e-09,  -2.04016858e-09,\n",
       "         -2.30224626e-09,  -2.47452644e-09,  -2.05111695e-09,\n",
       "         -2.42291636e-09,  -1.75617992e-09,  -6.14541405e-10,\n",
       "         -1.19595882e-09,  -1.72882083e-09,  -9.64141090e-10,\n",
       "         -6.45370920e-10,  -2.24511485e-09,  -1.45155272e-09,\n",
       "         -1.14102884e-09,  -2.01093927e-09,  -1.80185910e-09,\n",
       "         -1.07122317e-09,  -1.19200102e-09,  -1.95814307e-09,\n",
       "         -1.33318691e-09,  -2.16227482e-09,  -1.88589869e-09,\n",
       "         -2.14521415e-09,  -1.46439113e-09,  -2.47466699e-09,\n",
       "         -1.31143214e-09,  -2.16229664e-09,  -1.40390568e-09,\n",
       "         -1.37831378e-09,  -1.40057950e-09,  -1.04530387e-09,\n",
       "         -1.57522485e-09,  -1.93078959e-09,  -2.20019504e-09,\n",
       "         -2.41885497e-09,  -1.10169397e-09,  -1.78860897e-09,\n",
       "         -1.64942744e-09,  -1.05168505e-09,  -2.65291134e-09,\n",
       "         -2.20320980e-09,  -2.72412107e-06,  -1.45433485e-09,\n",
       "         -1.98331989e-09,  -2.83819067e-09,  -8.15913369e-10,\n",
       "         -2.33539873e-09,  -6.25851248e-10,  -7.08649124e-10,\n",
       "         -2.18049801e-09,  -2.65315271e-09,  -2.04061011e-09,\n",
       "         -1.06446032e-09,  -7.74896225e-10,  -2.08721708e-09,\n",
       "         -5.45714643e-10,  -1.67824021e-09,  -1.60347744e-09,\n",
       "         -1.27118180e-09,  -1.01804608e-09,  -2.20065686e-09,\n",
       "         -1.40780266e-09,  -2.65333364e-09,  -1.74947062e-09,\n",
       "         -1.67620516e-09,  -1.63376646e-09,  -1.67512157e-09,\n",
       "         -2.55048620e-09,  -2.05109469e-09,  -1.79400069e-09,\n",
       "         -2.83828783e-09,  -7.89728266e-10,  -8.30308447e-10,\n",
       "         -1.64393980e-09,  -1.92942237e-09,  -6.12367821e-10,\n",
       "         -1.64357354e-09,  -1.71865512e-09,  -7.33785820e-10,\n",
       "         -7.72117335e-10,  -2.65310100e-09,  -1.26252232e-09,\n",
       "         -1.00564816e-09,  -2.83840439e-09,  -2.65296739e-09,\n",
       "         -2.27302473e-09,  -2.65624537e-09,  -8.67768196e-10,\n",
       "         -2.65292859e-09,  -1.37404665e-09,  -1.24515005e-09,\n",
       "         -1.14851062e-09,  -2.47459766e-09,  -1.40850446e-09,\n",
       "         -2.83828783e-09,  -2.83837526e-09,  -2.83821982e-09,\n",
       "         -2.55054722e-09,  -2.47467261e-09,  -6.43798768e-07,\n",
       "         -2.65301481e-09]))"
      ]
     },
     "execution_count": 581,
     "metadata": {},
     "output_type": "execute_result"
    }
   ],
   "source": [
    "lr_model.coef_, lr_model.intercept_"
   ]
  },
  {
   "cell_type": "code",
   "execution_count": 582,
   "metadata": {},
   "outputs": [
    {
     "data": {
      "text/plain": [
       "array(['Stealing All Other', 'Stealing Shoplifting',\n",
       "       'Possession of Drug E', ..., 'Stealing Shoplifting',\n",
       "       'Agg Assault - Domest', 'Stealing Shoplifting'], dtype=object)"
      ]
     },
     "execution_count": 582,
     "metadata": {},
     "output_type": "execute_result"
    }
   ],
   "source": [
    "y1"
   ]
  },
  {
   "cell_type": "code",
   "execution_count": 583,
   "metadata": {},
   "outputs": [
    {
     "name": "stdout",
     "output_type": "stream",
     "text": [
      "Zip Code             64127\n",
      "Firearm Used Flag        1\n",
      "Name: 1, dtype: int64 Stealing All Other\n"
     ]
    }
   ],
   "source": [
    "print(X1.iloc[1,:], y1[0])"
   ]
  },
  {
   "cell_type": "code",
   "execution_count": 584,
   "metadata": {
    "collapsed": true
   },
   "outputs": [],
   "source": [
    "#y_pred_2 = lr_model.predict(X1.iloc[1, :].values.reshape(1,-1))\n"
   ]
  },
  {
   "cell_type": "code",
   "execution_count": 585,
   "metadata": {
    "collapsed": true
   },
   "outputs": [],
   "source": [
    "#y_pred_2"
   ]
  },
  {
   "cell_type": "code",
   "execution_count": 586,
   "metadata": {},
   "outputs": [
    {
     "name": "stdout",
     "output_type": "stream",
     "text": [
      "0.0923177341998\n"
     ]
    }
   ],
   "source": [
    "print (lr_model.score( X1_train , y1_train ))"
   ]
  },
  {
   "cell_type": "code",
   "execution_count": 503,
   "metadata": {
    "collapsed": true
   },
   "outputs": [],
   "source": [
    "######"
   ]
  },
  {
   "cell_type": "code",
   "execution_count": 665,
   "metadata": {},
   "outputs": [
    {
     "name": "stderr",
     "output_type": "stream",
     "text": [
      "C:\\Program Files (x86)\\Microsoft Visual Studio\\Shared\\Anaconda3_64\\lib\\site-packages\\sklearn\\linear_model\\stochastic_gradient.py:84: FutureWarning: max_iter and tol parameters have been added in <class 'sklearn.linear_model.stochastic_gradient.SGDRegressor'> in 0.19. If both are left unset, they default to max_iter=5 and tol=None. If tol is not None, max_iter defaults to max_iter=1000. From 0.21, default max_iter will be 1000, and default tol will be 1e-3.\n",
      "  \"and default tol will be 1e-3.\" % type(self), FutureWarning)\n"
     ]
    }
   ],
   "source": [
    "from sklearn.linear_model import SGDRegressor\n",
    "\n",
    "# Create an SGDClassifier instance which will have methods to do our linear regression fitting by gradient descent\n",
    "fitter = SGDRegressor(loss=\"squared_loss\", penalty=None)"
   ]
  },
  {
   "cell_type": "code",
   "execution_count": 667,
   "metadata": {
    "collapsed": true
   },
   "outputs": [],
   "source": [
    "X = dataset.as_matrix(columns=[\"Zip Code\"])  # SGDRegressor is very particular on input \"X\" and insists on a true matrix \n",
    "y = dataset[\"Offense\"].tolist() # This is the variable we want to predict, SGDRegressor expects a vector-like object"
   ]
  },
  {
   "cell_type": "code",
   "execution_count": 668,
   "metadata": {},
   "outputs": [
    {
     "data": {
      "text/plain": [
       "SGDRegressor(alpha=0.0001, average=False, epsilon=0.1, eta0=0.01,\n",
       "       fit_intercept=True, l1_ratio=0.15, learning_rate='invscaling',\n",
       "       loss='squared_loss', max_iter=5, n_iter=None, penalty=None,\n",
       "       power_t=0.25, random_state=None, shuffle=True, tol=None, verbose=0,\n",
       "       warm_start=False)"
      ]
     },
     "execution_count": 668,
     "metadata": {},
     "output_type": "execute_result"
    }
   ],
   "source": [
    "fitter.fit(X, y)"
   ]
  },
  {
   "cell_type": "code",
   "execution_count": 670,
   "metadata": {},
   "outputs": [
    {
     "ename": "NameError",
     "evalue": "name 'snp' is not defined",
     "output_type": "error",
     "traceback": [
      "\u001b[1;31m---------------------------------------------------------------------------\u001b[0m",
      "\u001b[1;31mNameError\u001b[0m                                 Traceback (most recent call last)",
      "\u001b[1;32m<ipython-input-670-7d127540fe7f>\u001b[0m in \u001b[0;36m<module>\u001b[1;34m()\u001b[0m\n\u001b[0;32m      6\u001b[0m \u001b[0mfig\u001b[0m\u001b[1;33m,\u001b[0m \u001b[0max\u001b[0m \u001b[1;33m=\u001b[0m \u001b[0mplt\u001b[0m\u001b[1;33m.\u001b[0m\u001b[0msubplots\u001b[0m\u001b[1;33m(\u001b[0m\u001b[1;33m)\u001b[0m\u001b[1;33m\u001b[0m\u001b[0m\n\u001b[0;32m      7\u001b[0m \u001b[0max\u001b[0m\u001b[1;33m.\u001b[0m\u001b[0mscatter\u001b[0m\u001b[1;33m(\u001b[0m\u001b[0mdataset\u001b[0m\u001b[1;33m[\u001b[0m\u001b[1;34m\"Zip Code\"\u001b[0m\u001b[1;33m]\u001b[0m\u001b[1;33m,\u001b[0m \u001b[0mdataset\u001b[0m\u001b[1;33m[\u001b[0m\u001b[1;34m\"Offense\"\u001b[0m\u001b[1;33m]\u001b[0m\u001b[1;33m)\u001b[0m\u001b[1;33m\u001b[0m\u001b[0m\n\u001b[1;32m----> 8\u001b[1;33m \u001b[0msnp\u001b[0m\u001b[1;33m.\u001b[0m\u001b[0mlabs\u001b[0m\u001b[1;33m(\u001b[0m\u001b[1;34m\"Zip Code\"\u001b[0m\u001b[1;33m,\u001b[0m \u001b[1;34m\"Offense\"\u001b[0m\u001b[1;33m,\u001b[0m \u001b[1;34m\"Data vs. Linear Regression Gradient Descent Fit\"\u001b[0m\u001b[1;33m)\u001b[0m\u001b[1;33m\u001b[0m\u001b[0m\n\u001b[0m\u001b[0;32m      9\u001b[0m \u001b[0max\u001b[0m\u001b[1;33m.\u001b[0m\u001b[0mplot\u001b[0m\u001b[1;33m(\u001b[0m\u001b[0mxs\u001b[0m\u001b[1;33m,\u001b[0m \u001b[0mnew_ys\u001b[0m\u001b[1;33m,\u001b[0m \u001b[0mcolor\u001b[0m\u001b[1;33m=\u001b[0m\u001b[1;34m\"red\"\u001b[0m\u001b[1;33m)\u001b[0m\u001b[1;33m\u001b[0m\u001b[0m\n",
      "\u001b[1;31mNameError\u001b[0m: name 'snp' is not defined"
     ]
    }
   ],
   "source": [
    "xs = list(range(0, 26, 1))\n",
    "xs = np.array(xs).reshape(-1, 1)\n",
    "\n",
    "new_ys = fitter.predict(xs)\n",
    "\n",
    "fig, ax = plt.subplots()\n",
    "ax.scatter(dataset[\"Zip Code\"], dataset[\"Offense\"])\n",
    "snp.labs(\"Zip Code\", \"Offense\", \"Data vs. Linear Regression Gradient Descent Fit\")\n",
    "ax.plot(xs, new_ys, color=\"red\")"
   ]
  },
  {
   "cell_type": "code",
   "execution_count": 673,
   "metadata": {
    "collapsed": true
   },
   "outputs": [],
   "source": [
    "from sklearn.preprocessing import StandardScaler\n",
    "scaler = StandardScaler()"
   ]
  },
  {
   "cell_type": "code",
   "execution_count": 675,
   "metadata": {},
   "outputs": [
    {
     "ename": "ValueError",
     "evalue": "could not convert string to float: '13100 HOLMES RD\\nKANSAS CITY 64145\\n(38.889239, -94.586045)'",
     "output_type": "error",
     "traceback": [
      "\u001b[1;31m---------------------------------------------------------------------------\u001b[0m",
      "\u001b[1;31mValueError\u001b[0m                                Traceback (most recent call last)",
      "\u001b[1;32m<ipython-input-675-f4d4c1cb0d96>\u001b[0m in \u001b[0;36m<module>\u001b[1;34m()\u001b[0m\n\u001b[1;32m----> 1\u001b[1;33m \u001b[0mscaler\u001b[0m\u001b[1;33m.\u001b[0m\u001b[0mfit\u001b[0m\u001b[1;33m(\u001b[0m\u001b[0mdataset\u001b[0m\u001b[1;33m)\u001b[0m  \u001b[1;31m# Train the transformer object so it knows what means and variances to use\u001b[0m\u001b[1;33m\u001b[0m\u001b[0m\n\u001b[0m\u001b[0;32m      2\u001b[0m \u001b[0mX_transformed\u001b[0m \u001b[1;33m=\u001b[0m \u001b[0mscaler\u001b[0m\u001b[1;33m.\u001b[0m\u001b[0mtransform\u001b[0m\u001b[1;33m(\u001b[0m\u001b[0mdataset\u001b[0m\u001b[1;33m)\u001b[0m  \u001b[1;31m# transform your training data in preparation for some badass ML algori\u001b[0m\u001b[1;33m\u001b[0m\u001b[0m\n",
      "\u001b[1;32mC:\\Program Files (x86)\\Microsoft Visual Studio\\Shared\\Anaconda3_64\\lib\\site-packages\\sklearn\\preprocessing\\data.py\u001b[0m in \u001b[0;36mfit\u001b[1;34m(self, X, y)\u001b[0m\n\u001b[0;32m    588\u001b[0m         \u001b[1;31m# Reset internal state before fitting\u001b[0m\u001b[1;33m\u001b[0m\u001b[1;33m\u001b[0m\u001b[0m\n\u001b[0;32m    589\u001b[0m         \u001b[0mself\u001b[0m\u001b[1;33m.\u001b[0m\u001b[0m_reset\u001b[0m\u001b[1;33m(\u001b[0m\u001b[1;33m)\u001b[0m\u001b[1;33m\u001b[0m\u001b[0m\n\u001b[1;32m--> 590\u001b[1;33m         \u001b[1;32mreturn\u001b[0m \u001b[0mself\u001b[0m\u001b[1;33m.\u001b[0m\u001b[0mpartial_fit\u001b[0m\u001b[1;33m(\u001b[0m\u001b[0mX\u001b[0m\u001b[1;33m,\u001b[0m \u001b[0my\u001b[0m\u001b[1;33m)\u001b[0m\u001b[1;33m\u001b[0m\u001b[0m\n\u001b[0m\u001b[0;32m    591\u001b[0m \u001b[1;33m\u001b[0m\u001b[0m\n\u001b[0;32m    592\u001b[0m     \u001b[1;32mdef\u001b[0m \u001b[0mpartial_fit\u001b[0m\u001b[1;33m(\u001b[0m\u001b[0mself\u001b[0m\u001b[1;33m,\u001b[0m \u001b[0mX\u001b[0m\u001b[1;33m,\u001b[0m \u001b[0my\u001b[0m\u001b[1;33m=\u001b[0m\u001b[1;32mNone\u001b[0m\u001b[1;33m)\u001b[0m\u001b[1;33m:\u001b[0m\u001b[1;33m\u001b[0m\u001b[0m\n",
      "\u001b[1;32mC:\\Program Files (x86)\\Microsoft Visual Studio\\Shared\\Anaconda3_64\\lib\\site-packages\\sklearn\\preprocessing\\data.py\u001b[0m in \u001b[0;36mpartial_fit\u001b[1;34m(self, X, y)\u001b[0m\n\u001b[0;32m    610\u001b[0m         \"\"\"\n\u001b[0;32m    611\u001b[0m         X = check_array(X, accept_sparse=('csr', 'csc'), copy=self.copy,\n\u001b[1;32m--> 612\u001b[1;33m                         warn_on_dtype=True, estimator=self, dtype=FLOAT_DTYPES)\n\u001b[0m\u001b[0;32m    613\u001b[0m \u001b[1;33m\u001b[0m\u001b[0m\n\u001b[0;32m    614\u001b[0m         \u001b[1;31m# Even in the case of `with_mean=False`, we update the mean anyway\u001b[0m\u001b[1;33m\u001b[0m\u001b[1;33m\u001b[0m\u001b[0m\n",
      "\u001b[1;32mC:\\Program Files (x86)\\Microsoft Visual Studio\\Shared\\Anaconda3_64\\lib\\site-packages\\sklearn\\utils\\validation.py\u001b[0m in \u001b[0;36mcheck_array\u001b[1;34m(array, accept_sparse, dtype, order, copy, force_all_finite, ensure_2d, allow_nd, ensure_min_samples, ensure_min_features, warn_on_dtype, estimator)\u001b[0m\n\u001b[0;32m    400\u001b[0m                                       force_all_finite)\n\u001b[0;32m    401\u001b[0m     \u001b[1;32melse\u001b[0m\u001b[1;33m:\u001b[0m\u001b[1;33m\u001b[0m\u001b[0m\n\u001b[1;32m--> 402\u001b[1;33m         \u001b[0marray\u001b[0m \u001b[1;33m=\u001b[0m \u001b[0mnp\u001b[0m\u001b[1;33m.\u001b[0m\u001b[0marray\u001b[0m\u001b[1;33m(\u001b[0m\u001b[0marray\u001b[0m\u001b[1;33m,\u001b[0m \u001b[0mdtype\u001b[0m\u001b[1;33m=\u001b[0m\u001b[0mdtype\u001b[0m\u001b[1;33m,\u001b[0m \u001b[0morder\u001b[0m\u001b[1;33m=\u001b[0m\u001b[0morder\u001b[0m\u001b[1;33m,\u001b[0m \u001b[0mcopy\u001b[0m\u001b[1;33m=\u001b[0m\u001b[0mcopy\u001b[0m\u001b[1;33m)\u001b[0m\u001b[1;33m\u001b[0m\u001b[0m\n\u001b[0m\u001b[0;32m    403\u001b[0m \u001b[1;33m\u001b[0m\u001b[0m\n\u001b[0;32m    404\u001b[0m         \u001b[1;32mif\u001b[0m \u001b[0mensure_2d\u001b[0m\u001b[1;33m:\u001b[0m\u001b[1;33m\u001b[0m\u001b[0m\n",
      "\u001b[1;31mValueError\u001b[0m: could not convert string to float: '13100 HOLMES RD\\nKANSAS CITY 64145\\n(38.889239, -94.586045)'"
     ]
    }
   ],
   "source": [
    "scaler.fit(dataset)  # Train the transformer object so it knows what means and variances to use\n",
    "X_transformed = scaler.transform(dataset)  # transform your training data in preparation for some badass ML algori"
   ]
  },
  {
   "cell_type": "code",
   "execution_count": 693,
   "metadata": {},
   "outputs": [
    {
     "data": {
      "text/html": [
       "<div>\n",
       "<style>\n",
       "    .dataframe thead tr:only-child th {\n",
       "        text-align: right;\n",
       "    }\n",
       "\n",
       "    .dataframe thead th {\n",
       "        text-align: left;\n",
       "    }\n",
       "\n",
       "    .dataframe tbody tr th {\n",
       "        vertical-align: top;\n",
       "    }\n",
       "</style>\n",
       "<table border=\"1\" class=\"dataframe\">\n",
       "  <thead>\n",
       "    <tr style=\"text-align: right;\">\n",
       "      <th></th>\n",
       "      <th>Offense</th>\n",
       "      <th>Zip Code</th>\n",
       "      <th>Sex</th>\n",
       "      <th>Age</th>\n",
       "      <th>Firearm Used Flag</th>\n",
       "    </tr>\n",
       "  </thead>\n",
       "  <tbody>\n",
       "    <tr>\n",
       "      <th>0</th>\n",
       "      <td>690</td>\n",
       "      <td>64113</td>\n",
       "      <td>0</td>\n",
       "      <td>37.493142</td>\n",
       "      <td>1</td>\n",
       "    </tr>\n",
       "    <tr>\n",
       "      <th>1</th>\n",
       "      <td>630</td>\n",
       "      <td>64127</td>\n",
       "      <td>0</td>\n",
       "      <td>37.493142</td>\n",
       "      <td>1</td>\n",
       "    </tr>\n",
       "    <tr>\n",
       "      <th>2</th>\n",
       "      <td>1850</td>\n",
       "      <td>64152</td>\n",
       "      <td>0</td>\n",
       "      <td>23.000000</td>\n",
       "      <td>1</td>\n",
       "    </tr>\n",
       "    <tr>\n",
       "      <th>3</th>\n",
       "      <td>1849</td>\n",
       "      <td>64106</td>\n",
       "      <td>0</td>\n",
       "      <td>37.493142</td>\n",
       "      <td>1</td>\n",
       "    </tr>\n",
       "    <tr>\n",
       "      <th>4</th>\n",
       "      <td>670</td>\n",
       "      <td>64127</td>\n",
       "      <td>1</td>\n",
       "      <td>38.000000</td>\n",
       "      <td>1</td>\n",
       "    </tr>\n",
       "  </tbody>\n",
       "</table>\n",
       "</div>"
      ],
      "text/plain": [
       "   Offense  Zip Code  Sex        Age  Firearm Used Flag\n",
       "0      690     64113    0  37.493142                  1\n",
       "1      630     64127    0  37.493142                  1\n",
       "2     1850     64152    0  23.000000                  1\n",
       "3     1849     64106    0  37.493142                  1\n",
       "4      670     64127    1  38.000000                  1"
      ]
     },
     "execution_count": 693,
     "metadata": {},
     "output_type": "execute_result"
    }
   ],
   "source": [
    "dataset.head()"
   ]
  },
  {
   "cell_type": "code",
   "execution_count": 694,
   "metadata": {},
   "outputs": [
    {
     "name": "stderr",
     "output_type": "stream",
     "text": [
      "C:\\Program Files (x86)\\Microsoft Visual Studio\\Shared\\Anaconda3_64\\lib\\site-packages\\sklearn\\linear_model\\stochastic_gradient.py:84: FutureWarning: max_iter and tol parameters have been added in <class 'sklearn.linear_model.stochastic_gradient.SGDRegressor'> in 0.19. If both are left unset, they default to max_iter=5 and tol=None. If tol is not None, max_iter defaults to max_iter=1000. From 0.21, default max_iter will be 1000, and default tol will be 1e-3.\n",
      "  \"and default tol will be 1e-3.\" % type(self), FutureWarning)\n"
     ]
    },
    {
     "data": {
      "text/plain": [
       "SGDRegressor(alpha=0.0001, average=False, epsilon=0.1, eta0=0.01,\n",
       "       fit_intercept=True, l1_ratio=0.15, learning_rate='invscaling',\n",
       "       loss='squared_loss', max_iter=5, n_iter=None, penalty='l2',\n",
       "       power_t=0.25, random_state=None, shuffle=True, tol=None, verbose=0,\n",
       "       warm_start=False)"
      ]
     },
     "execution_count": 694,
     "metadata": {},
     "output_type": "execute_result"
    }
   ],
   "source": [
    "import numpy as np\n",
    "from sklearn import linear_model\n",
    "n_samples, n_features = 10, 5\n",
    "np.random.seed(0)\n",
    "y = np.random.randn(n_samples)\n",
    "X = np.random.randn(n_samples, n_features)\n",
    "clf = linear_model.SGDRegressor()\n",
    "clf.fit(X, y)\n",
    "\n"
   ]
  },
  {
   "cell_type": "code",
   "execution_count": null,
   "metadata": {
    "collapsed": true
   },
   "outputs": [],
   "source": []
  }
 ],
 "metadata": {
  "kernelspec": {
   "display_name": "Python 3",
   "language": "python",
   "name": "python3"
  },
  "language_info": {
   "codemirror_mode": {
    "name": "ipython",
    "version": 3
   },
   "file_extension": ".py",
   "mimetype": "text/x-python",
   "name": "python",
   "nbconvert_exporter": "python",
   "pygments_lexer": "ipython3",
   "version": "3.6.2"
  }
 },
 "nbformat": 4,
 "nbformat_minor": 2
}
